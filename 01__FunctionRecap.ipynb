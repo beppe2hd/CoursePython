{
  "nbformat": 4,
  "nbformat_minor": 0,
  "metadata": {
    "colab": {
      "provenance": [],
      "authorship_tag": "ABX9TyPTC1HJxNva7O2elX6G5HCf",
      "include_colab_link": true
    },
    "kernelspec": {
      "name": "python3",
      "display_name": "Python 3"
    },
    "language_info": {
      "name": "python"
    }
  },
  "cells": [
    {
      "cell_type": "markdown",
      "metadata": {
        "id": "view-in-github",
        "colab_type": "text"
      },
      "source": [
        "<a href=\"https://colab.research.google.com/github/beppe2hd/CoursePython/blob/main/01__FunctionRecap.ipynb\" target=\"_parent\"><img src=\"https://colab.research.google.com/assets/colab-badge.svg\" alt=\"Open In Colab\"/></a>"
      ]
    },
    {
      "cell_type": "markdown",
      "source": [
        "# Programmazione Orientata agli Oggetti: Concetti base usando Python. + LABORATORIO"
      ],
      "metadata": {
        "id": "agK_jV9wa231"
      }
    },
    {
      "cell_type": "markdown",
      "source": [
        "## Defining a Function"
      ],
      "metadata": {
        "id": "ds1PJE87a-uJ"
      }
    },
    {
      "cell_type": "code",
      "source": [
        "def myFunction():\n",
        "  print(\"Hallo World\")\n",
        "\n",
        "myFunction()\n",
        "myFunction()"
      ],
      "metadata": {
        "colab": {
          "base_uri": "https://localhost:8080/"
        },
        "id": "V_rbJOOwbE0L",
        "outputId": "8e1601c5-4913-4f92-900c-d23ef60556d3"
      },
      "execution_count": null,
      "outputs": [
        {
          "output_type": "stream",
          "name": "stdout",
          "text": [
            "Hallo World\n",
            "Hallo World\n"
          ]
        }
      ]
    },
    {
      "cell_type": "markdown",
      "source": [
        "## Arguments and Parameters"
      ],
      "metadata": {
        "id": "1PYBUtY_ue4x"
      }
    },
    {
      "cell_type": "code",
      "source": [
        "def halloFunction(name):\n",
        "  print(f\"My name is {name}\")\n",
        "\n",
        "halloFunction('Giulio')\n",
        "halloFunction('Marco')"
      ],
      "metadata": {
        "colab": {
          "base_uri": "https://localhost:8080/"
        },
        "id": "yONpg8Yzun_C",
        "outputId": "14971ec8-ffe3-4621-c521-c133811561f9"
      },
      "execution_count": null,
      "outputs": [
        {
          "output_type": "stream",
          "name": "stdout",
          "text": [
            "My name is Giulio\n",
            "My name is Marco\n"
          ]
        }
      ]
    },
    {
      "cell_type": "markdown",
      "source": [
        "*Marco* e *giulio* sono **Argomenti**\n",
        "\n",
        "*name* é un **Parametro**"
      ],
      "metadata": {
        "id": "FW2d3HNyvYTK"
      }
    },
    {
      "cell_type": "markdown",
      "source": [
        "### Positional arguments"
      ],
      "metadata": {
        "id": "_n31hbofbTHT"
      }
    },
    {
      "cell_type": "code",
      "source": [
        "def describe_pet(animal_type, pet_name):\n",
        "               print(\"I have a \" + animal_type + \".\")\n",
        "               print(f\"My {animal_type} 's name is {pet_name}.\")\n",
        "\n",
        "describe_pet(\"cat\", \"Tom\")\n",
        "describe_pet(\"dog\", \"Runa\")"
      ],
      "metadata": {
        "colab": {
          "base_uri": "https://localhost:8080/"
        },
        "id": "3DJbmSwDbXIZ",
        "outputId": "bc515457-a41d-485f-c423-abbb3cb54ed1"
      },
      "execution_count": null,
      "outputs": [
        {
          "output_type": "stream",
          "name": "stdout",
          "text": [
            "I have a cat.\n",
            "My cat 's name is  Tom.\n",
            "I have a dog.\n",
            "My dog 's name is  Runa.\n"
          ]
        }
      ]
    },
    {
      "cell_type": "markdown",
      "source": [
        "Cosa succede se non rispettiamo l'ordine (non a caso parliamo di **Positional Arguments**"
      ],
      "metadata": {
        "id": "S_-Z2RkOAN3L"
      }
    },
    {
      "cell_type": "code",
      "source": [
        "describe_pet(\"Runa\", \"dog\")"
      ],
      "metadata": {
        "colab": {
          "base_uri": "https://localhost:8080/"
        },
        "id": "8NLr4AZRAYwe",
        "outputId": "ffe04fd7-cbd9-4e5d-9652-ace55cc7b005"
      },
      "execution_count": null,
      "outputs": [
        {
          "output_type": "stream",
          "name": "stdout",
          "text": [
            "I have a Runa.\n",
            "My Runa 's name is dog.\n"
          ]
        }
      ]
    },
    {
      "cell_type": "markdown",
      "source": [
        "### Keyword Arguments\n",
        "\n",
        "Un Keyword Arguments é una coppia chiave valore che viene passata alla funzione e permette di associare direttamente il parametro al valore desiderato."
      ],
      "metadata": {
        "id": "epRFP3rPA1Hw"
      }
    },
    {
      "cell_type": "code",
      "source": [
        "def describe_pet(animal_type, pet_name):\n",
        "    print(\"I have a \" + animal_type + \".\")\n",
        "    print(f\"My {animal_type} 's name is {pet_name}.\")"
      ],
      "metadata": {
        "id": "iVweD5l6A35m"
      },
      "execution_count": null,
      "outputs": []
    },
    {
      "cell_type": "code",
      "source": [
        "describe_pet(pet_name=\"Runa\", animal_type=\"dog\")"
      ],
      "metadata": {
        "colab": {
          "base_uri": "https://localhost:8080/"
        },
        "id": "3PYJkjXMA3qH",
        "outputId": "3c166cd8-8723-4c3c-91f5-fc84ae5626de"
      },
      "execution_count": null,
      "outputs": [
        {
          "output_type": "stream",
          "name": "stdout",
          "text": [
            "I have a dog.\n",
            "My dog 's name is Runa.\n"
          ]
        }
      ]
    },
    {
      "cell_type": "markdown",
      "source": [
        "## Default Value\n",
        "Nel dichiarare la funzione é anche possibile fornire dei *valori di default* ai vari **parametri**"
      ],
      "metadata": {
        "id": "rkaEs55-BjOv"
      }
    },
    {
      "cell_type": "code",
      "source": [
        "def describe_pet(pet_name, animal_type='dog'):\n",
        "  print(\"I have a \" + animal_type + \".\")\n",
        "  print(f\"My {animal_type} 's name is {pet_name}.\")"
      ],
      "metadata": {
        "id": "4QqeQSsQDLs1"
      },
      "execution_count": null,
      "outputs": []
    },
    {
      "cell_type": "code",
      "source": [
        "describe_pet(\"Tom\", \"cat\")\n",
        "describe_pet(\"Runa\")"
      ],
      "metadata": {
        "colab": {
          "base_uri": "https://localhost:8080/"
        },
        "id": "1bYURe9XDffA",
        "outputId": "20b33411-c290-4a85-dc76-2ce65db20ad2"
      },
      "execution_count": null,
      "outputs": [
        {
          "output_type": "stream",
          "name": "stdout",
          "text": [
            "I have a cat.\n",
            "My cat 's name is Tom.\n",
            "I have a dog.\n",
            "My dog 's name is Runa.\n"
          ]
        }
      ]
    },
    {
      "cell_type": "markdown",
      "source": [
        "### Optional values\n",
        "possiamo rendere dei valori opzionali utilizzando i valori di default."
      ],
      "metadata": {
        "id": "oPYvLr1sX29-"
      }
    },
    {
      "cell_type": "code",
      "source": [
        "def get_formatted_name(first_name, last_name, middle_name):\n",
        "       full_name = first_name + ' ' + middle_name + ' ' + last_name\n",
        "       print(full_name.title())\n",
        "\n",
        "get_formatted_name(first_name='marco', last_name='Del Coco', middle_name= 'Jhon')"
      ],
      "metadata": {
        "colab": {
          "base_uri": "https://localhost:8080/"
        },
        "id": "w3dC9HmQYIVC",
        "outputId": "86b28042-322b-4a5f-c821-3b6f4f2c57eb"
      },
      "execution_count": null,
      "outputs": [
        {
          "output_type": "stream",
          "name": "stdout",
          "text": [
            "Marco Jhon Del Coco\n"
          ]
        }
      ]
    },
    {
      "cell_type": "code",
      "source": [
        "def get_formatted_name(first_name, last_name, middle_name=''):\n",
        "    if middle_name:\n",
        "        full_name = first_name + ' ' + middle_name + ' ' + last_name\n",
        "    else:\n",
        "        full_name = first_name + ' ' + last_name\n",
        "    print(full_name.title())\n",
        "\n",
        "get_formatted_name(first_name='Marco', last_name='Del Coco')"
      ],
      "metadata": {
        "colab": {
          "base_uri": "https://localhost:8080/"
        },
        "id": "nunL7nd1YuNH",
        "outputId": "63a8d290-9f08-4623-c9a8-13ab32efc351"
      },
      "execution_count": null,
      "outputs": [
        {
          "output_type": "stream",
          "name": "stdout",
          "text": [
            "Marco Del Coco\n"
          ]
        }
      ]
    },
    {
      "cell_type": "markdown",
      "source": [
        "## Chiamate equivalenti\n",
        "\n",
        "Consideriamo un esempio più complesso (leggermente)"
      ],
      "metadata": {
        "id": "0rRfknpWEHKD"
      }
    },
    {
      "cell_type": "code",
      "source": [
        "def describe_pet(pet_name, animal_type='dog', pet_size='Medium'):\n",
        "               print(\"I have a \" + animal_type + \".\")\n",
        "               print(f\"My {animal_type} 's name is {pet_name}.\")\n",
        "               print(f\"Its size is {pet_size}.\")"
      ],
      "metadata": {
        "id": "ai8rpDPVEQWz"
      },
      "execution_count": null,
      "outputs": []
    },
    {
      "cell_type": "markdown",
      "source": [
        "Qui possiamo vedere come é possibile effettuare chiamate equivalenti alla stessa funzione."
      ],
      "metadata": {
        "id": "dcDVNRovEux_"
      }
    },
    {
      "cell_type": "code",
      "source": [
        "describe_pet(\"Runa\")"
      ],
      "metadata": {
        "colab": {
          "base_uri": "https://localhost:8080/"
        },
        "id": "pEmH_0UqEtiw",
        "outputId": "de3ed250-44a1-4bf2-a414-113abb5275bf"
      },
      "execution_count": null,
      "outputs": [
        {
          "output_type": "stream",
          "name": "stdout",
          "text": [
            "I have a dog.\n",
            "My dog 's name is Runa.\n",
            "Its size is Medium.\n"
          ]
        }
      ]
    },
    {
      "cell_type": "code",
      "source": [
        "describe_pet(\"Runa\", pet_size='Small')"
      ],
      "metadata": {
        "colab": {
          "base_uri": "https://localhost:8080/"
        },
        "id": "M_eeO6ZaMQW6",
        "outputId": "c0564b9b-e416-4779-d57f-0d78535bd336"
      },
      "execution_count": null,
      "outputs": [
        {
          "output_type": "stream",
          "name": "stdout",
          "text": [
            "I have a dog.\n",
            "My dog 's name is Runa.\n",
            "Its size is Small.\n"
          ]
        }
      ]
    },
    {
      "cell_type": "markdown",
      "source": [
        "##Argument Type\n",
        "É possibile specificare anche il tipo per ogni argomento"
      ],
      "metadata": {
        "id": "saVMqrgjOGpg"
      }
    },
    {
      "cell_type": "code",
      "source": [
        "def describe_pet(pet_name, animal_type='dog', pet_weight=6):\n",
        "               print(\"I have a \" + animal_type + \".\")\n",
        "               print(f\"My {animal_type} 's name is {pet_name}.\")\n",
        "               print(f\"Its weight is {pet_weight} Kg.\")\n",
        "\n",
        "describe_pet('Runa', pet_weight=5)"
      ],
      "metadata": {
        "colab": {
          "base_uri": "https://localhost:8080/"
        },
        "id": "Pbo8vftsOprb",
        "outputId": "a4422ccc-9ffd-4081-8b05-08a8455bb4bf"
      },
      "execution_count": null,
      "outputs": [
        {
          "output_type": "stream",
          "name": "stdout",
          "text": [
            "I have a dog.\n",
            "My dog 's name is Runa.\n",
            "Its weight is 5 Kg.\n"
          ]
        }
      ]
    },
    {
      "cell_type": "code",
      "source": [
        "describe_pet(5.6, pet_weight='Bart')"
      ],
      "metadata": {
        "colab": {
          "base_uri": "https://localhost:8080/"
        },
        "id": "AEXpPRC2PTBb",
        "outputId": "070c158c-eaf7-4508-b875-703e8c71bf63"
      },
      "execution_count": null,
      "outputs": [
        {
          "output_type": "stream",
          "name": "stdout",
          "text": [
            "I have a dog.\n",
            "My dog 's name is 5.6.\n",
            "Its weight is Bart Kg.\n"
          ]
        }
      ]
    },
    {
      "cell_type": "code",
      "source": [
        "def describe_pet(pet_name:str, animal_type:str='dog', pet_weight:float=6.4):\n",
        "               print(\"I have a \" + animal_type + \".\")\n",
        "               print(f\"My {animal_type} 's name is {pet_name}.\")\n",
        "               print(f\"Its weight is {pet_weight} Kg.\")"
      ],
      "metadata": {
        "id": "OiyqIp1sPhNc"
      },
      "execution_count": null,
      "outputs": []
    },
    {
      "cell_type": "code",
      "source": [
        "describe_pet(1, pet_weight='tir')"
      ],
      "metadata": {
        "colab": {
          "base_uri": "https://localhost:8080/"
        },
        "id": "2hKHkHDoQZSv",
        "outputId": "89d74aa3-5b60-4417-efd2-f0c44097e2b1"
      },
      "execution_count": null,
      "outputs": [
        {
          "output_type": "stream",
          "name": "stdout",
          "text": [
            "I have a dog.\n",
            "My dog 's name is 1.\n",
            "Its weight is tir Kg.\n"
          ]
        }
      ]
    },
    {
      "cell_type": "markdown",
      "source": [
        "##Returned values"
      ],
      "metadata": {
        "id": "lCrg3oLCPRjs"
      }
    },
    {
      "cell_type": "code",
      "source": [
        "def get_formatted_name(first_name, last_name, middle_name=''):\n",
        "    if middle_name:\n",
        "        full_name = first_name + ' ' + middle_name + ' ' + last_name\n",
        "    else:\n",
        "        full_name = first_name + ' ' + last_name\n",
        "\n",
        "    return full_name.title()\n",
        "\n",
        "exited_full_name = get_formatted_name('Marco', 'Del Coco')\n",
        "print(exited_full_name)"
      ],
      "metadata": {
        "colab": {
          "base_uri": "https://localhost:8080/"
        },
        "id": "1M0FpMWCaXtl",
        "outputId": "11a54a1e-5377-442e-bc43-d678fdc90301"
      },
      "execution_count": null,
      "outputs": [
        {
          "output_type": "stream",
          "name": "stdout",
          "text": [
            "Marco Del Coco\n"
          ]
        }
      ]
    },
    {
      "cell_type": "markdown",
      "source": [
        "###Returning a dictionary\n",
        "E qualcosa ancora sugli argomenti opzionali"
      ],
      "metadata": {
        "id": "LSfD2p3Kbkdh"
      }
    },
    {
      "cell_type": "code",
      "source": [
        "def build_person(first_name, last_name, age=''):\n",
        "       \"\"\"Return a dictionary of information about a person.\"\"\"\n",
        "       person = {'first': first_name, 'last': last_name}\n",
        "       if age:\n",
        "           person['age'] = age\n",
        "       return person\n",
        "\n",
        "musician = build_person('jimi', 'hendrix', age=27)\n",
        "print(musician)"
      ],
      "metadata": {
        "colab": {
          "base_uri": "https://localhost:8080/"
        },
        "id": "tyesDP0vbpGo",
        "outputId": "7e861fe9-e51b-44d8-c12e-ce0c82b377ba"
      },
      "execution_count": null,
      "outputs": [
        {
          "output_type": "stream",
          "name": "stdout",
          "text": [
            "{'first': 'jimi', 'last': 'hendrix', 'age': 27}\n"
          ]
        }
      ]
    },
    {
      "cell_type": "code",
      "source": [
        "musician = build_person('jimi', 'hendrix')\n",
        "print(musician)"
      ],
      "metadata": {
        "colab": {
          "base_uri": "https://localhost:8080/"
        },
        "id": "NXD8kZj_bymi",
        "outputId": "544c9dca-ce16-48bc-d550-3490a90b73b8"
      },
      "execution_count": null,
      "outputs": [
        {
          "output_type": "stream",
          "name": "stdout",
          "text": [
            "{'first': 'jimi', 'last': 'hendrix'}\n"
          ]
        }
      ]
    },
    {
      "cell_type": "markdown",
      "source": [
        "##Functions in loop"
      ],
      "metadata": {
        "id": "3x4T6T_ic7D-"
      }
    },
    {
      "cell_type": "code",
      "source": [
        "def get_formatted_name(first_name, last_name, middle_name=''):\n",
        "    if middle_name:\n",
        "        full_name = f\"{first_name.title()} {middle_name.title()} {last_name.title()} is awesom\"\n",
        "    else:\n",
        "        full_name = f\"{first_name.title()} {last_name.title()} is awesome\"\n",
        "\n",
        "    print(full_name)\n",
        "\n",
        "for i in range(1,10):\n",
        "  get_formatted_name('Marco', \"Del Coco\")"
      ],
      "metadata": {
        "colab": {
          "base_uri": "https://localhost:8080/"
        },
        "id": "qBXPPqedc6T8",
        "outputId": "6b307aff-b1fe-40d5-c02b-201c2ca0fb11"
      },
      "execution_count": null,
      "outputs": [
        {
          "output_type": "stream",
          "name": "stdout",
          "text": [
            "Marco Del Coco is awesome\n",
            "Marco Del Coco is awesome\n",
            "Marco Del Coco is awesome\n",
            "Marco Del Coco is awesome\n",
            "Marco Del Coco is awesome\n",
            "Marco Del Coco is awesome\n",
            "Marco Del Coco is awesome\n",
            "Marco Del Coco is awesome\n",
            "Marco Del Coco is awesome\n"
          ]
        }
      ]
    },
    {
      "cell_type": "code",
      "source": [
        "friends = ['Marco', 'Alessio', 'Francesco']\n",
        "\n",
        "def get_formatted_name(first_name):\n",
        "      sentence = f\"{first_name.title()} is awesome\"\n",
        "      print(sentence)\n",
        "\n",
        "for name in friends:\n",
        "  get_formatted_name(name)"
      ],
      "metadata": {
        "colab": {
          "base_uri": "https://localhost:8080/"
        },
        "id": "tU3LqZ7DeRGz",
        "outputId": "7996c27e-14a3-4341-c250-1bde08a29d26"
      },
      "execution_count": null,
      "outputs": [
        {
          "output_type": "stream",
          "name": "stdout",
          "text": [
            "Marco is awesome\n",
            "Alessio is awesome\n",
            "Francesco is awesome\n"
          ]
        }
      ]
    },
    {
      "cell_type": "markdown",
      "source": [
        "## Arbitrary arguments"
      ],
      "metadata": {
        "id": "WN9i4QZvgO1X"
      }
    },
    {
      "cell_type": "code",
      "source": [
        "def make_pizza(*toppings):\n",
        "    print(toppings)\n",
        "\n",
        "make_pizza('pepperoni')\n",
        "make_pizza('mushrooms', 'green peppers', 'extra cheese')"
      ],
      "metadata": {
        "colab": {
          "base_uri": "https://localhost:8080/"
        },
        "id": "nVE9_Za-gS2S",
        "outputId": "9ad62ed9-7d4d-4b41-fd3a-93fca4ecb9f4"
      },
      "execution_count": null,
      "outputs": [
        {
          "output_type": "stream",
          "name": "stdout",
          "text": [
            "('pepperoni',)\n",
            "('mushrooms', 'green peppers', 'extra cheese')\n"
          ]
        }
      ]
    },
    {
      "cell_type": "code",
      "source": [
        "def make_pizza(*toppings):\n",
        "    if 'mushrooms' in toppings:\n",
        "      print('mushrooms are not available')\n",
        "    else:\n",
        "      print(toppings)\n",
        "\n",
        "make_pizza('pepperoni')\n",
        "make_pizza('mushrooms', 'green peppers', 'extra cheese')"
      ],
      "metadata": {
        "colab": {
          "base_uri": "https://localhost:8080/"
        },
        "id": "5iXS4Bw0gpDz",
        "outputId": "ec35f26e-2497-46b2-d087-78122cc011c4"
      },
      "execution_count": null,
      "outputs": [
        {
          "output_type": "stream",
          "name": "stdout",
          "text": [
            "('pepperoni',)\n",
            "mushrooms are not available\n"
          ]
        }
      ]
    },
    {
      "cell_type": "markdown",
      "source": [
        "### Mixed positional arguments"
      ],
      "metadata": {
        "id": "G-jxNuQX_Tog"
      }
    },
    {
      "cell_type": "code",
      "source": [
        "def make_pizza(size, *toppings):\n",
        "    formatted_toppings = ''\n",
        "    for t in toppings:\n",
        "      formatted_toppings += f\" {t}\"\n",
        "    print(f\"You ordered a {size} pizza with{formatted_toppings}\")\n",
        "\n",
        "make_pizza('medium', 'mushrooms', 'green peppers', 'extra cheese')"
      ],
      "metadata": {
        "colab": {
          "base_uri": "https://localhost:8080/"
        },
        "id": "4JVG29Om_UuV",
        "outputId": "47589b56-7bae-4769-ce9d-206154295d83"
      },
      "execution_count": null,
      "outputs": [
        {
          "output_type": "stream",
          "name": "stdout",
          "text": [
            "You ordered a medium pizza with mushrooms green peppers extra cheese\n"
          ]
        }
      ]
    },
    {
      "cell_type": "code",
      "source": [
        "def make_pizza(size, *toppings):\n",
        "    formatted_toppings = ''\n",
        "    for t in toppings:\n",
        "      formatted_toppings += f\" {t},\"\n",
        "    formatted_toppings = formatted_toppings[:-1]\n",
        "    print(f\"You ordered a {size} pizza with{formatted_toppings}\")\n",
        "\n",
        "make_pizza('medium', 'mushrooms', 'green peppers', 'extra cheese')"
      ],
      "metadata": {
        "colab": {
          "base_uri": "https://localhost:8080/"
        },
        "id": "6VOt9seTAt_j",
        "outputId": "aeb28f59-b5c5-49f2-9617-fc410443cf9f"
      },
      "execution_count": null,
      "outputs": [
        {
          "output_type": "stream",
          "name": "stdout",
          "text": [
            "You ordered a medium pizza with mushrooms, green peppers, extra cheese\n"
          ]
        }
      ]
    },
    {
      "cell_type": "markdown",
      "source": [
        "## Arbitrary Keyword Arguments"
      ],
      "metadata": {
        "id": "2Hv5V9sEgT36"
      }
    },
    {
      "cell_type": "code",
      "source": [
        "def build_profile(first, last, **user_info):\n",
        "    \"\"\"Build a dictionary containing everything we know about a user.\"\"\"\n",
        "    print(f\"user_info is a {type(user_info)}\")\n",
        "    profile = {}\n",
        "    profile['first_name'] = first\n",
        "    profile['last_name'] = last\n",
        "    for key, value in user_info.items():\n",
        "        profile[key] = value\n",
        "    return profile\n",
        "user_profile = build_profile('albert', 'einstein',\n",
        "                             location='princeton',\n",
        "                             field='physics')\n",
        "print(user_profile)"
      ],
      "metadata": {
        "colab": {
          "base_uri": "https://localhost:8080/"
        },
        "id": "-ItuH5_6gUNy",
        "outputId": "4482fb57-f1b8-40f6-98f0-68e484a5637b"
      },
      "execution_count": null,
      "outputs": [
        {
          "output_type": "stream",
          "name": "stdout",
          "text": [
            "user_info is a <class 'dict'>\n",
            "{'first_name': 'albert', 'last_name': 'einstein', 'location': 'princeton', 'field': 'physics'}\n"
          ]
        }
      ]
    },
    {
      "cell_type": "code",
      "source": [
        "user_profile = build_profile(last='einstein', first='albert',\n",
        "                             location='princeton',\n",
        "                             field='physics')\n",
        "print(user_profile)"
      ],
      "metadata": {
        "colab": {
          "base_uri": "https://localhost:8080/"
        },
        "id": "67OLfJlSFoir",
        "outputId": "7296df82-dbd8-4723-c0ab-b58bee9ef41f"
      },
      "execution_count": null,
      "outputs": [
        {
          "output_type": "stream",
          "name": "stdout",
          "text": [
            "user_info is a <class 'dict'>\n",
            "{'first_name': 'albert', 'last_name': 'einstein', 'location': 'princeton', 'field': 'physics'}\n"
          ]
        }
      ]
    },
    {
      "cell_type": "markdown",
      "source": [
        "##Variable Scope\n",
        "\n",
        "###Local Scope\n",
        "Una variabile creata all'interno di una funzione appartiene all'ambito locale (**local scope**) di quella funzione e può essere utilizzata solo all'interno di quella funzione."
      ],
      "metadata": {
        "id": "sjh6_q_DGARp"
      }
    },
    {
      "cell_type": "code",
      "source": [
        "def myfunc():\n",
        "  x = 300\n",
        "  print(x)\n",
        "\n",
        "myfunc()\n"
      ],
      "metadata": {
        "colab": {
          "base_uri": "https://localhost:8080/"
        },
        "id": "ewuUUGC7GR6R",
        "outputId": "29865bce-dd3a-4fb4-8391-b2b1657f5743"
      },
      "execution_count": null,
      "outputs": [
        {
          "output_type": "stream",
          "name": "stdout",
          "text": [
            "300\n"
          ]
        }
      ]
    },
    {
      "cell_type": "markdown",
      "source": [
        "### Global Scope"
      ],
      "metadata": {
        "id": "TAuYJ76qJTvN"
      }
    },
    {
      "cell_type": "code",
      "source": [
        "x = 300\n",
        "\n",
        "def myfunc():\n",
        "  print(x)\n",
        "\n",
        "myfunc()\n",
        "\n",
        "print(x)"
      ],
      "metadata": {
        "colab": {
          "base_uri": "https://localhost:8080/"
        },
        "id": "7dc576GgJYof",
        "outputId": "f88a1a8a-e6c6-44e7-bcdb-23412ee87367"
      },
      "execution_count": null,
      "outputs": [
        {
          "output_type": "stream",
          "name": "stdout",
          "text": [
            "300\n",
            "300\n"
          ]
        }
      ]
    },
    {
      "cell_type": "markdown",
      "source": [
        "###Function Inside Function\n",
        "\n",
        "Una variabile creata nel corpo principale del codice Python è una variabile globale e appartiene all'ambito globale (**global scope**)."
      ],
      "metadata": {
        "id": "TahoTxDQImg0"
      }
    },
    {
      "cell_type": "code",
      "source": [
        "def myfunc():\n",
        "  x = 300\n",
        "  def myinnerfunc():\n",
        "    print(x)\n",
        "  myinnerfunc()\n",
        "\n",
        "myfunc()"
      ],
      "metadata": {
        "id": "VcbGiVNpJKYI"
      },
      "execution_count": null,
      "outputs": []
    },
    {
      "cell_type": "markdown",
      "source": [
        "### Naming Variables\n",
        "\n",
        "Se si opera con lo stesso nome di variabile sia all'interno che all'esterno di una funzione, Python le tratterà come due variabili separate, una disponibile nell Global Scope (fuori dalla funzione) e una disponibile nell Local Scope (all'interno della funzione):"
      ],
      "metadata": {
        "id": "nR87Ra0vOYZg"
      }
    },
    {
      "cell_type": "code",
      "source": [
        "x = 300\n",
        "\n",
        "def myfunc():\n",
        "  x = 200\n",
        "  print(x)\n",
        "\n",
        "myfunc()\n",
        "\n",
        "print(x)"
      ],
      "metadata": {
        "colab": {
          "base_uri": "https://localhost:8080/"
        },
        "id": "RyiNhRmfOY1H",
        "outputId": "067f89b2-6431-4bf8-90f4-475eab233b22"
      },
      "execution_count": null,
      "outputs": [
        {
          "output_type": "stream",
          "name": "stdout",
          "text": [
            "200\n",
            "300\n"
          ]
        }
      ]
    },
    {
      "cell_type": "markdown",
      "source": [
        "### Global Keyword\n",
        "\n",
        "In alcuni casi é necessario creare una variabile globale, all'interno di un ambito locale. A tale scopo é possibile usare la parola chiave **global** che  rende la variabile globale."
      ],
      "metadata": {
        "id": "G8IfPNNvO-K4"
      }
    },
    {
      "cell_type": "code",
      "source": [
        "def myfunc():\n",
        "  global x\n",
        "  x = 300\n",
        "\n",
        "myfunc()\n",
        "\n",
        "print(x)"
      ],
      "metadata": {
        "id": "qWCRhhL4Pb-c"
      },
      "execution_count": null,
      "outputs": []
    },
    {
      "cell_type": "markdown",
      "source": [
        "global é anche utile se si vuole modificare una variabile del Global scope all interno di una funzione"
      ],
      "metadata": {
        "id": "QrWVnBfCPyIi"
      }
    },
    {
      "cell_type": "code",
      "source": [
        "x = 300\n",
        "\n",
        "def myfunc():\n",
        "  global x\n",
        "  x = 200\n",
        "\n",
        "myfunc()\n",
        "\n",
        "print(x)"
      ],
      "metadata": {
        "id": "EzcP0fmUP6yk"
      },
      "execution_count": null,
      "outputs": []
    },
    {
      "cell_type": "markdown",
      "source": [
        "## List comprehension\n",
        "\n",
        " Le List comprehension offrono una sintassi più breve quando si vuole creare un nuovo elenco basato sui valori di un elenco esistente."
      ],
      "metadata": {
        "id": "8PoHdm5BXu-_"
      }
    },
    {
      "cell_type": "code",
      "source": [
        "fruits = [\"apple\", \"banana\", \"cherry\", \"kiwi\", \"mango\"]\n",
        "newlist = []\n",
        "\n",
        "for x in fruits:\n",
        "  if \"a\" in x:\n",
        "    newlist.append(x)\n",
        "\n",
        "print(newlist)"
      ],
      "metadata": {
        "id": "DwG-bxrkX3Y2"
      },
      "execution_count": null,
      "outputs": []
    },
    {
      "cell_type": "markdown",
      "source": [
        "La sintassi é in generale:\n",
        "\n",
        "\n",
        "```\n",
        "newlist = [expression for item in iterable if condition == True]\n",
        "```\n",
        "\n",
        "\n",
        "Applicando una List comprehension otteniamo un codice molto più compatto"
      ],
      "metadata": {
        "id": "Pf2_s2PfYCin"
      }
    },
    {
      "cell_type": "code",
      "source": [
        "fruits = [\"apple\", \"banana\", \"cherry\", \"kiwi\", \"mango\"]\n",
        "\n",
        "newlist = [x for x in fruits]\n",
        "\n",
        "print(newlist)"
      ],
      "metadata": {
        "colab": {
          "base_uri": "https://localhost:8080/"
        },
        "id": "lb0iMN-DX9M-",
        "outputId": "c7e2a57c-891d-491b-c461-e71e67dfa83b"
      },
      "execution_count": null,
      "outputs": [
        {
          "output_type": "stream",
          "name": "stdout",
          "text": [
            "['apple', 'banana', 'cherry', 'kiwi', 'mango']\n"
          ]
        }
      ]
    },
    {
      "cell_type": "code",
      "source": [
        "newlist = [x for x in fruits if x != \"apple\"]\n",
        "print(newlist)\n",
        "newlist = [x for x in fruits if \"a\" in x]\n",
        "print(newlist)"
      ],
      "metadata": {
        "colab": {
          "base_uri": "https://localhost:8080/"
        },
        "id": "OJtC70rLYchz",
        "outputId": "ed8d6c90-cccd-4fb0-80e2-c148e41f24df"
      },
      "execution_count": null,
      "outputs": [
        {
          "output_type": "stream",
          "name": "stdout",
          "text": [
            "['banana', 'cherry', 'kiwi', 'mango']\n",
            "['apple', 'banana', 'mango']\n"
          ]
        }
      ]
    }
  ]
}