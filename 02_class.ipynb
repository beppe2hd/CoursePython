{
  "nbformat": 4,
  "nbformat_minor": 0,
  "metadata": {
    "colab": {
      "provenance": [],
      "authorship_tag": "ABX9TyMyI+t4ktxr4jHe2JSD4roq",
      "include_colab_link": true
    },
    "kernelspec": {
      "name": "python3",
      "display_name": "Python 3"
    },
    "language_info": {
      "name": "python"
    }
  },
  "cells": [
    {
      "cell_type": "markdown",
      "metadata": {
        "id": "view-in-github",
        "colab_type": "text"
      },
      "source": [
        "<a href=\"https://colab.research.google.com/github/beppe2hd/CoursePython/blob/main/02_class.ipynb\" target=\"_parent\"><img src=\"https://colab.research.google.com/assets/colab-badge.svg\" alt=\"Open In Colab\"/></a>"
      ]
    },
    {
      "cell_type": "markdown",
      "source": [
        "# Programmazione Orientata agli Oggetti: Concetti base usando Python. + LABORATORIO"
      ],
      "metadata": {
        "id": "RJ2YxUbMMdir"
      }
    },
    {
      "cell_type": "markdown",
      "source": [
        "## Definizione e utilizzo di una classe\n",
        "\n",
        "Proviamo a definire una prima classe"
      ],
      "metadata": {
        "id": "IgriDlxeMh8U"
      }
    },
    {
      "cell_type": "code",
      "source": [
        "class Dog():\n",
        "    \"\"\"A simple attempt to model a dog.\"\"\"\n",
        "    def __init__(self, name, age):\n",
        "        \"\"\"Initialize name and age attributes.\"\"\"\n",
        "        self.name = name\n",
        "        self.age = age\n",
        "\n",
        "\n",
        "    def sit(self):\n",
        "        \"\"\"Simulate a dog sitting in response to a command.\"\"\"\n",
        "        print(self.name.title() + \" is now sitting.\")\n",
        "\n",
        "    def roll_over(self):\n",
        "        \"\"\"Simulate rolling over in response to a command.\"\"\"\n",
        "        print(self.name.title() + \" rolled over!\")"
      ],
      "metadata": {
        "id": "m_07dWgkD_Rh"
      },
      "execution_count": null,
      "outputs": []
    },
    {
      "cell_type": "markdown",
      "source": [
        "Una volta definite una classe é possible:\n",
        "\n",
        "* Crearne una o piú istanze\n",
        "\n",
        "* Utilizzarne i Metodi\n",
        "\n",
        "* Utilizzarne gli attribut"
      ],
      "metadata": {
        "id": "sHaCvup0Vl83"
      }
    },
    {
      "cell_type": "code",
      "source": [
        "my_dog = Dog(\"Charlie\", 7)\n",
        "your_dog = Dog(\"Freddy\", 3)\n",
        "\n",
        "my_dog.sit()\n",
        "your_dog.sit()\n",
        "\n",
        "print(my_dog.name)"
      ],
      "metadata": {
        "colab": {
          "base_uri": "https://localhost:8080/"
        },
        "id": "ifJHt8zRWEGS",
        "outputId": "48afd88e-1157-4401-d44d-45d30a6673a1"
      },
      "execution_count": null,
      "outputs": [
        {
          "output_type": "stream",
          "name": "stdout",
          "text": [
            "Charlie is now sitting.\n",
            "Freddy is now sitting.\n",
            "Charlie\n"
          ]
        }
      ]
    },
    {
      "cell_type": "markdown",
      "source": [
        "## Wizard Example class"
      ],
      "metadata": {
        "id": "DyMJquf9zc7O"
      }
    },
    {
      "cell_type": "code",
      "source": [
        "class WizCoin:\n",
        "  def __init__(self, galleons, sickles, knuts):\n",
        "    \"\"\"Create a new WizCoin object with galleons, sickles, and knuts.\"\"\"\n",
        "    self.galleons = galleons\n",
        "    self.sickles = sickles\n",
        "    self.knuts = knuts\n",
        "\n",
        "  def value(self):\n",
        "    \"\"\"The value (in knuts) of all the coins in this WizCoin object.\"\"\"\n",
        "    return (self.galleons * 17 * 29) + (self.sickles * 29) + (self.knuts)\n",
        "\n",
        "  def weightInGrams(self):\n",
        "    \"\"\"Returns the weight of the coins in grams.\"\"\"\n",
        "    return (self.galleons * 31.103) + (self.sickles * 11.34) + (self.knuts* 5.0)"
      ],
      "metadata": {
        "id": "-7cMRzqXzhto"
      },
      "execution_count": null,
      "outputs": []
    },
    {
      "cell_type": "code",
      "source": [],
      "metadata": {
        "id": "7wq-Res2_9bc"
      },
      "execution_count": null,
      "outputs": []
    },
    {
      "cell_type": "markdown",
      "source": [
        "##Inheritance"
      ],
      "metadata": {
        "id": "6xYuTvzmcVca"
      }
    },
    {
      "cell_type": "code",
      "source": [
        "class ParentClass:\n",
        "  def printHello(self):\n",
        "    print('Hello, world!')\n",
        "\n",
        "class ChildClass(ParentClass):\n",
        "  def someNewMethod(self):\n",
        "    print('ParentClass objects don't have this method.')\n",
        "\n",
        "class GrandchildClass(ChildClass):\n",
        "  def anotherNewMethod(self):\n",
        "    print('Only GrandchildClass objects have this method.')"
      ],
      "metadata": {
        "id": "iVggu4mecYBX"
      },
      "execution_count": null,
      "outputs": []
    },
    {
      "cell_type": "markdown",
      "source": [
        "Proviamo a istanziare queste classi e vedere cosa succede"
      ],
      "metadata": {
        "id": "p0BvqfZqcePv"
      }
    },
    {
      "cell_type": "code",
      "source": [],
      "metadata": {
        "id": "OsAcAxQ-vDiG"
      },
      "execution_count": null,
      "outputs": []
    },
    {
      "cell_type": "markdown",
      "source": [
        "### Override\n",
        "\n",
        "L-override di un metodo consiste nel sovrascrivere, in una classe figlia, un metodo ereditato dalla classe padre."
      ],
      "metadata": {
        "id": "DqiOmTaevD_c"
      }
    },
    {
      "cell_type": "code",
      "source": [
        "class ParentClass:\n",
        "  def printHello(self):\n",
        "    print('Hello, world!')\n",
        "\n",
        "  def printGoodNight(self):\n",
        "    print('Good Noght')\n",
        "\n",
        "class ChildClass(ParentClass):\n",
        "  def someNewMethod(self):\n",
        "    print(\"ParentClass objects don't have this method.\")\n",
        "\n",
        "  def printGoodNight(self): #override method\n",
        "    print('Good Noght Bro')\n",
        "\n"
      ],
      "metadata": {
        "id": "1HSALDQzx17G"
      },
      "execution_count": null,
      "outputs": []
    },
    {
      "cell_type": "markdown",
      "source": [
        "## Protected and Private"
      ],
      "metadata": {
        "id": "p4q7BZ04g0WQ"
      }
    },
    {
      "cell_type": "code",
      "source": [
        "class ParentClass:\n",
        "\n",
        "  def __init__(self, name, balance, code):\n",
        "\n",
        "        # public data members\n",
        "        self.name = name\n",
        "        self._balance = balance\n",
        "        self.__code = code\n",
        "\n",
        "class ChildClass(ParentClass):\n",
        "  tot = 23\n",
        "\n",
        "  def allowedAttributes(self):\n",
        "    print(f\"ChildClass can access {self.name}\" )\n",
        "    print(f\"ChildClass can access {self._balance}\" )\n",
        "\n",
        "  def forbiddenAttributes(self):\n",
        "    print(f\"ChildClass would like to access {self.__code}\" )\n",
        "\n",
        "  def accessForbiddenAttributes(self):\n",
        "    print(f\"ChildClass would like to access {self._ParentClass__code}\" )"
      ],
      "metadata": {
        "id": "JlifoC5C1q4x"
      },
      "execution_count": null,
      "outputs": []
    },
    {
      "cell_type": "code",
      "source": [
        "a = ChildClass('ciro', 1000, 54887)\n",
        "\n",
        "a.allowedAttributes()\n",
        "#a.forbiddenAttributes() #error\n",
        "a.accessForbiddenAttributes()\n",
        "\n"
      ],
      "metadata": {
        "colab": {
          "base_uri": "https://localhost:8080/"
        },
        "id": "xiY40BPRg59c",
        "outputId": "518d1334-e50f-4341-f3a7-db45c0d5a7cf"
      },
      "execution_count": null,
      "outputs": [
        {
          "output_type": "stream",
          "name": "stdout",
          "text": [
            "ChildClass can access ciro\n",
            "ChildClass can access 1000\n",
            "ChildClass would like to access 54887\n"
          ]
        }
      ]
    },
    {
      "cell_type": "markdown",
      "source": [
        "É ora iunteressante capire da dove deriva questo messaggio di errore.\n",
        "\n",
        "```\n",
        "AttributeError: 'ChildClass' object has no attribute '_ChildClass__code'\n",
        "```\n",
        "\n",
        "Andiamo a fondo della question con un esempio (gentilemnte offerto da Geek4Geek)"
      ],
      "metadata": {
        "id": "OiazICq8jf4g"
      }
    },
    {
      "cell_type": "code",
      "source": [
        "class Geek:\n",
        "\n",
        "    # constructor\n",
        "    def __init__(self, name, age):\n",
        "\n",
        "        # public data members\n",
        "        self.geekName = name\n",
        "        self.geekAge = age\n",
        "\n",
        "    # public member function\n",
        "    def displayAge(self):\n",
        "\n",
        "        # accessing public data member\n",
        "        print(\"Age: \", self.geekAge)\n",
        "\n",
        "\n",
        "# creating object of the class\n",
        "obj = Geek(\"R2J\", 20)\n",
        "\n",
        "# finding all the fields and methods which are present inside obj\n",
        "print(\"List of fields and methods inside obj:\", dir(obj))\n",
        "\n",
        "# accessing public data member\n",
        "print(\"Name:\", obj.geekName)\n",
        "\n",
        "# calling public member function of the class\n",
        "obj.displayAge()"
      ],
      "metadata": {
        "id": "UUYIo9dRhBfz",
        "colab": {
          "base_uri": "https://localhost:8080/"
        },
        "outputId": "abac83d2-1437-40f1-a3d4-e0fbe92154e5"
      },
      "execution_count": null,
      "outputs": [
        {
          "output_type": "stream",
          "name": "stdout",
          "text": [
            "List of fields and methods inside obj: ['__class__', '__delattr__', '__dict__', '__dir__', '__doc__', '__eq__', '__format__', '__ge__', '__getattribute__', '__getstate__', '__gt__', '__hash__', '__init__', '__init_subclass__', '__le__', '__lt__', '__module__', '__ne__', '__new__', '__reduce__', '__reduce_ex__', '__repr__', '__setattr__', '__sizeof__', '__str__', '__subclasshook__', '__weakref__', 'displayAge', 'geekAge', 'geekName']\n",
            "Name: R2J\n",
            "Age:  20\n"
          ]
        }
      ]
    },
    {
      "cell_type": "code",
      "source": [
        "# program to illustrate protected access modifier in a class\n",
        "\n",
        "# super class\n",
        "class Student:\n",
        "\n",
        "    # protected data members\n",
        "    _name = None\n",
        "    _roll = None\n",
        "    _branch = None\n",
        "\n",
        "    # constructor\n",
        "    def __init__(self, name, roll, branch):\n",
        "        self._name = name\n",
        "        self._roll = roll\n",
        "        self._branch = branch\n",
        "\n",
        "    # protected member function\n",
        "    def _displayRollAndBranch(self):\n",
        "\n",
        "        # accessing protected data members\n",
        "        print(\"Roll:\", self._roll)\n",
        "        print(\"Branch:\", self._branch)\n",
        "\n",
        "# derived class\n",
        "class Geek(Student):\n",
        "\n",
        "    # constructor\n",
        "    def __init__(self, name, roll, branch):\n",
        "        Student.__init__(self, name, roll, branch)\n",
        "\n",
        "    # public member function\n",
        "    def displayDetails(self):\n",
        "\n",
        "        # accessing protected data members of super class\n",
        "        print(\"Name:\", self._name)\n",
        "\n",
        "        # accessing protected member functions of super class\n",
        "        self._displayRollAndBranch()\n",
        "\n",
        "\n",
        "stu = Student(\"Alpha\", 1234567, \"Computer Science\")\n",
        "print(dir(stu))\n",
        "\n",
        "# protected members and methods can be still accessed\n",
        "print(stu._name)\n",
        "stu._displayRollAndBranch()\n",
        "\n",
        "# Throws error\n",
        "# print(stu.name)\n",
        "# stu.displayRollAndBranch()\n",
        "\n",
        "# creating objects of the derived class\n",
        "obj = Geek(\"R2J\", 1706256, \"Information Technology\")\n",
        "print(\"\")\n",
        "print(dir(obj))\n",
        "\n",
        "# calling public member functions of the class\n",
        "obj.displayDetails()"
      ],
      "metadata": {
        "colab": {
          "base_uri": "https://localhost:8080/"
        },
        "id": "OtnR7a6NmjoW",
        "outputId": "9b27119b-4df7-4496-eb00-9e25d6b7041a"
      },
      "execution_count": null,
      "outputs": [
        {
          "output_type": "stream",
          "name": "stdout",
          "text": [
            "['__class__', '__delattr__', '__dict__', '__dir__', '__doc__', '__eq__', '__format__', '__ge__', '__getattribute__', '__getstate__', '__gt__', '__hash__', '__init__', '__init_subclass__', '__le__', '__lt__', '__module__', '__ne__', '__new__', '__reduce__', '__reduce_ex__', '__repr__', '__setattr__', '__sizeof__', '__str__', '__subclasshook__', '__weakref__', '_branch', '_displayRollAndBranch', '_name', '_roll']\n",
            "Alpha\n",
            "Roll: 1234567\n",
            "Branch: Computer Science\n",
            "\n",
            "['__class__', '__delattr__', '__dict__', '__dir__', '__doc__', '__eq__', '__format__', '__ge__', '__getattribute__', '__getstate__', '__gt__', '__hash__', '__init__', '__init_subclass__', '__le__', '__lt__', '__module__', '__ne__', '__new__', '__reduce__', '__reduce_ex__', '__repr__', '__setattr__', '__sizeof__', '__str__', '__subclasshook__', '__weakref__', '_branch', '_displayRollAndBranch', '_name', '_roll', 'displayDetails']\n",
            "Name: R2J\n",
            "Roll: 1706256\n",
            "Branch: Information Technology\n"
          ]
        }
      ]
    },
    {
      "cell_type": "markdown",
      "source": [
        "### Private access"
      ],
      "metadata": {
        "id": "gIIwCGIvngJX"
      }
    },
    {
      "cell_type": "code",
      "source": [
        "# program to illustrate private access modifier in a class\n",
        "\n",
        "class Geek:\n",
        "\n",
        "    # private members\n",
        "    __name = None\n",
        "    __roll = None\n",
        "    __branch = None\n",
        "\n",
        "    # constructor\n",
        "    def __init__(self, name, roll, branch):\n",
        "        self.__name = name\n",
        "        self.__roll = roll\n",
        "        self.__branch = branch\n",
        "\n",
        "    # private member function\n",
        "    def __displayDetails(self):\n",
        "\n",
        "        # accessing private data members\n",
        "        print(\"Name:\", self.__name)\n",
        "        print(\"Roll:\", self.__roll)\n",
        "        print(\"Branch:\", self.__branch)\n",
        "\n",
        "    # public member function\n",
        "    def accessPrivateFunction(self):\n",
        "\n",
        "        # accessing private member function\n",
        "        self.__displayDetails()\n",
        "\n",
        "# creating object\n",
        "obj = Geek(\"R2J\", 1706256, \"Information Technology\")\n",
        "\n",
        "print(dir(obj))\n",
        "print(\"\")\n",
        "\n",
        "# Throws error\n",
        "# obj.__name\n",
        "# obj.__roll\n",
        "# obj.__branch\n",
        "# obj.__displayDetails()\n",
        "\n",
        "# To access private members of a class\n",
        "print(obj._Geek__name)\n",
        "print(obj._Geek__roll)\n",
        "print(obj._Geek__branch)\n",
        "obj._Geek__displayDetails()\n",
        "\n",
        "print(\"\")\n",
        "\n",
        "# calling public member function of the class\n",
        "obj.accessPrivateFunction()"
      ],
      "metadata": {
        "colab": {
          "base_uri": "https://localhost:8080/"
        },
        "id": "iucH7AB3nPyN",
        "outputId": "8e529494-c3c1-4ff5-873c-76106e539ba3"
      },
      "execution_count": null,
      "outputs": [
        {
          "output_type": "stream",
          "name": "stdout",
          "text": [
            "['_Geek__branch', '_Geek__displayDetails', '_Geek__name', '_Geek__roll', '__class__', '__delattr__', '__dict__', '__dir__', '__doc__', '__eq__', '__format__', '__ge__', '__getattribute__', '__getstate__', '__gt__', '__hash__', '__init__', '__init_subclass__', '__le__', '__lt__', '__module__', '__ne__', '__new__', '__reduce__', '__reduce_ex__', '__repr__', '__setattr__', '__sizeof__', '__str__', '__subclasshook__', '__weakref__', 'accessPrivateFunction']\n",
            "\n",
            "R2J\n",
            "1706256\n",
            "Information Technology\n",
            "Name: R2J\n",
            "Roll: 1706256\n",
            "Branch: Information Technology\n",
            "\n",
            "Name: R2J\n",
            "Roll: 1706256\n",
            "Branch: Information Technology\n"
          ]
        }
      ]
    },
    {
      "cell_type": "markdown",
      "source": [
        "### super()\n",
        "\n",
        "La funzione super() di Python consente di fare riferimento esplicitamente alla classe madre. È fondamentalmente utile quando si devono chiamare i metodi della classe padre per i quali é stato eseguito un override."
      ],
      "metadata": {
        "id": "MYJUMyJrRWiE"
      }
    },
    {
      "cell_type": "code",
      "source": [
        "class Parent():\n",
        "\n",
        "    def show(self):\n",
        "        print(\"Inside Parent\")\n",
        "\n",
        "class Child(Parent):\n",
        "\n",
        "    def show(self):\n",
        "\n",
        "        # Calling the parent's class\n",
        "        # method\n",
        "        super().show()\n",
        "        print(\"Inside Child\")\n",
        "\n",
        "# Driver's code\n",
        "obj = Child()\n",
        "obj.show()"
      ],
      "metadata": {
        "id": "sVPURsBZRm65",
        "colab": {
          "base_uri": "https://localhost:8080/"
        },
        "outputId": "eda96241-b58a-407e-b89c-c4343cae2ab0"
      },
      "execution_count": 1,
      "outputs": [
        {
          "output_type": "stream",
          "name": "stdout",
          "text": [
            "Inside Parent\n",
            "Inside Child\n"
          ]
        }
      ]
    },
    {
      "cell_type": "markdown",
      "source": [
        "La funzione super é anche fondamentale per richiamare il cosruttore della classe genitore"
      ],
      "metadata": {
        "id": "Su3hbWnoR1XR"
      }
    },
    {
      "cell_type": "code",
      "source": [
        "class Animal:\n",
        "    def __init__(self, name):\n",
        "        self.name = name\n",
        "\n",
        "class Dog(Animal):\n",
        "    def __init__(self, name, breed):\n",
        "        #super().__init__(name)\n",
        "        self.breed = breed"
      ],
      "metadata": {
        "id": "KAMZ5oigd5Mo"
      },
      "execution_count": 26,
      "outputs": []
    },
    {
      "cell_type": "code",
      "source": [
        "# Program to define the use of super()\n",
        "# function in multiple inheritance\n",
        "class GFG1:\n",
        "    def __init__(self):\n",
        "        print('HEY !!!!!! GfG I am initialised(Class GEG1)')\n",
        "\n",
        "    def sub_GFG(self, b):\n",
        "        print('Printing from class GFG1:', b)\n",
        "\n",
        "# class GFG2 inherits the GFG1\n",
        "class GFG2(GFG1):\n",
        "    def __init__(self):\n",
        "        print('HEY !!!!!! GfG I am initialised(Class GEG2)')\n",
        "        super().__init__()\n",
        "\n",
        "    def sub_GFG(self, b):\n",
        "        print('Printing from class GFG2:', b)\n",
        "        super().sub_GFG(b + 1)\n",
        "\n",
        "# class GFG3 inherits the GFG1 ang GFG2 both\n",
        "class GFG3(GFG2):\n",
        "    def __init__(self):\n",
        "        print('HEY !!!!!! GfG I am initialised(Class GEG3)')\n",
        "        super().__init__()\n",
        "\n",
        "    def sub_GFG(self, b):\n",
        "        print('Printing from class GFG3:', b)\n",
        "        super().sub_GFG(b + 1)\n",
        "\n",
        "\n",
        "# main function\n",
        "if __name__ == '__main__':\n",
        "\n",
        "    # created the object gfg\n",
        "    gfg = GFG3()\n",
        "\n",
        "    # calling the function sub_GFG3() from class GHG3\n",
        "    # which inherits both GFG1 and GFG2 classes\n",
        "    gfg.sub_GFG(10)"
      ],
      "metadata": {
        "colab": {
          "base_uri": "https://localhost:8080/"
        },
        "id": "Sgjvoi7OS86W",
        "outputId": "14aec67d-8aa8-43cc-be80-8ff5aa92caee"
      },
      "execution_count": null,
      "outputs": [
        {
          "output_type": "stream",
          "name": "stdout",
          "text": [
            "HEY !!!!!! GfG I am initialised(Class GEG3)\n",
            "HEY !!!!!! GfG I am initialised(Class GEG2)\n",
            "HEY !!!!!! GfG I am initialised(Class GEG1)\n",
            "Printing from class GFG3: 10\n",
            "Printing from class GFG2: 11\n",
            "Printing from class GFG1: 12\n"
          ]
        }
      ]
    },
    {
      "cell_type": "markdown",
      "source": [
        "## Inhtritance vs Composition\n",
        "\n"
      ],
      "metadata": {
        "id": "8wSv6fVwcb8W"
      }
    },
    {
      "cell_type": "code",
      "source": [
        "class WizCoin:\n",
        "  def __init__(self, galleons, sickles, knuts):\n",
        "    \"\"\"Create a new WizCoin object with galleons, sickles, and knuts.\"\"\"\n",
        "    self.galleons = galleons\n",
        "    self.sickles = sickles\n",
        "    self.knuts = knuts\n",
        "\n",
        "  def value(self):\n",
        "    \"\"\"The value (in knuts) of all the coins in this WizCoin object.\"\"\"\n",
        "    return (self.galleons * 17 * 29) + (self.sickles * 29) + (self.knuts)\n",
        "\n",
        "  def weightInGrams(self):\n",
        "    \"\"\"Returns the weight of the coins in grams.\"\"\"\n",
        "    return (self.galleons * 31.103) + (self.sickles * 11.34) + (self.knuts* 5.0)\n",
        "\n",
        "class WizardCustomer(WizCoin):\n",
        "  def __init__(self, name):\n",
        "    self.name = name\n",
        "    super().__init__(0, 0, 0)\n",
        "\n",
        "\n",
        "wizard = WizardCustomer('Alice')\n",
        "print(f'{wizard.name} has {wizard.value()} knuts worth of money.')\n",
        "print(f'{wizard.name}\\'s coins weigh {wizard.weightInGrams()} grams.')"
      ],
      "metadata": {
        "colab": {
          "base_uri": "https://localhost:8080/"
        },
        "id": "n5PpgQvjcg3p",
        "outputId": "8c29fdcb-7743-4d01-9a3e-0cddf68036b0"
      },
      "execution_count": null,
      "outputs": [
        {
          "output_type": "stream",
          "name": "stdout",
          "text": [
            "Alice has 0 knuts worth of money.\n",
            "Alice's coins weigh 0.0 grams.\n"
          ]
        }
      ]
    },
    {
      "cell_type": "markdown",
      "source": [
        "In questa forma il codice e poco elegante e leggibile. In un caso come questo é più opportuno utilizzare la composizione"
      ],
      "metadata": {
        "id": "pVm_kr_jc8NM"
      }
    },
    {
      "cell_type": "code",
      "source": [
        "class WizCoin:\n",
        "  def __init__(self, galleons, sickles, knuts):\n",
        "    \"\"\"Create a new WizCoin object with galleons, sickles, and knuts.\"\"\"\n",
        "    self.galleons = galleons\n",
        "    self.sickles = sickles\n",
        "    self.knuts = knuts\n",
        "\n",
        "  def value(self):\n",
        "    \"\"\"The value (in knuts) of all the coins in this WizCoin object.\"\"\"\n",
        "    return (self.galleons * 17 * 29) + (self.sickles * 29) + (self.knuts)\n",
        "\n",
        "  def weightInGrams(self):\n",
        "    \"\"\"Returns the weight of the coins in grams.\"\"\"\n",
        "    return (self.galleons * 31.103) + (self.sickles * 11.34) + (self.knuts* 5.0)\n",
        "\n",
        "class WizardCustomer:\n",
        "  def __init__(self, name):\n",
        "    self.name = name\n",
        "    self.purse = WizCoin(0, 0, 0)\n",
        "\n",
        "\n",
        "wizard = WizardCustomer('Alice')\n",
        "print(f'{wizard.name} has {wizard.purse.value()} knuts worth of money.')\n",
        "print(f'{wizard.name}\\'s coins weigh {wizard.purse.weightInGrams()} grams.')"
      ],
      "metadata": {
        "colab": {
          "base_uri": "https://localhost:8080/"
        },
        "id": "0hzM86lJdHPk",
        "outputId": "116e837d-8d7d-4ac4-cba4-f5b488764db4"
      },
      "execution_count": null,
      "outputs": [
        {
          "output_type": "stream",
          "name": "stdout",
          "text": [
            "Alice has 0 knuts worth of money.\n",
            "Alice's coins weigh 0.0 grams.\n"
          ]
        }
      ]
    },
    {
      "cell_type": "code",
      "source": [
        "\n",
        "print(type(4).__qualname__)\n"
      ],
      "metadata": {
        "colab": {
          "base_uri": "https://localhost:8080/"
        },
        "id": "1DaVIxlPny51",
        "outputId": "3174f154-14ec-4b02-e5be-3f508016e708"
      },
      "execution_count": null,
      "outputs": [
        {
          "output_type": "stream",
          "name": "stdout",
          "text": [
            "int\n"
          ]
        }
      ]
    },
    {
      "cell_type": "code",
      "source": [
        "class Animal:\n",
        "    def __init__(self, name):\n",
        "        self._name = name\n",
        "        self.__surname = 'ciao'\n",
        "\n",
        "a =Animal('teddy')\n",
        "print(dir(a))\n",
        "a._name\n",
        "a.__surname\n"
      ],
      "metadata": {
        "id": "rD24Gm00n-UE",
        "colab": {
          "base_uri": "https://localhost:8080/",
          "height": 210
        },
        "outputId": "60f66e1a-9215-4c2a-d65d-2cc6a9fb3e4c"
      },
      "execution_count": 1,
      "outputs": [
        {
          "output_type": "stream",
          "name": "stdout",
          "text": [
            "['_Animal__surname', '__class__', '__delattr__', '__dict__', '__dir__', '__doc__', '__eq__', '__format__', '__ge__', '__getattribute__', '__getstate__', '__gt__', '__hash__', '__init__', '__init_subclass__', '__le__', '__lt__', '__module__', '__ne__', '__new__', '__reduce__', '__reduce_ex__', '__repr__', '__setattr__', '__sizeof__', '__str__', '__subclasshook__', '__weakref__', '_name']\n"
          ]
        },
        {
          "output_type": "error",
          "ename": "AttributeError",
          "evalue": "'Animal' object has no attribute '__surname'",
          "traceback": [
            "\u001b[0;31m---------------------------------------------------------------------------\u001b[0m",
            "\u001b[0;31mAttributeError\u001b[0m                            Traceback (most recent call last)",
            "\u001b[0;32m<ipython-input-1-31039c7f3b5a>\u001b[0m in \u001b[0;36m<cell line: 0>\u001b[0;34m()\u001b[0m\n\u001b[1;32m      7\u001b[0m \u001b[0mprint\u001b[0m\u001b[0;34m(\u001b[0m\u001b[0mdir\u001b[0m\u001b[0;34m(\u001b[0m\u001b[0ma\u001b[0m\u001b[0;34m)\u001b[0m\u001b[0;34m)\u001b[0m\u001b[0;34m\u001b[0m\u001b[0;34m\u001b[0m\u001b[0m\n\u001b[1;32m      8\u001b[0m \u001b[0ma\u001b[0m\u001b[0;34m.\u001b[0m\u001b[0m_name\u001b[0m\u001b[0;34m\u001b[0m\u001b[0;34m\u001b[0m\u001b[0m\n\u001b[0;32m----> 9\u001b[0;31m \u001b[0ma\u001b[0m\u001b[0;34m.\u001b[0m\u001b[0m__surname\u001b[0m\u001b[0;34m\u001b[0m\u001b[0;34m\u001b[0m\u001b[0m\n\u001b[0m",
            "\u001b[0;31mAttributeError\u001b[0m: 'Animal' object has no attribute '__surname'"
          ]
        }
      ]
    },
    {
      "cell_type": "code",
      "source": [],
      "metadata": {
        "id": "XtdPczztdAFI"
      },
      "execution_count": null,
      "outputs": []
    }
  ]
}