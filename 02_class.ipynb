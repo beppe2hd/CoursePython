{
  "nbformat": 4,
  "nbformat_minor": 0,
  "metadata": {
    "colab": {
      "provenance": [],
      "authorship_tag": "ABX9TyO8LESFna8iAL7JvWO3ANdh",
      "include_colab_link": true
    },
    "kernelspec": {
      "name": "python3",
      "display_name": "Python 3"
    },
    "language_info": {
      "name": "python"
    }
  },
  "cells": [
    {
      "cell_type": "markdown",
      "metadata": {
        "id": "view-in-github",
        "colab_type": "text"
      },
      "source": [
        "<a href=\"https://colab.research.google.com/github/beppe2hd/CoursePython/blob/main/02_class.ipynb\" target=\"_parent\"><img src=\"https://colab.research.google.com/assets/colab-badge.svg\" alt=\"Open In Colab\"/></a>"
      ]
    },
    {
      "cell_type": "markdown",
      "source": [
        "# Programmazione Orientata agli Oggetti: Concetti base usando Python. + LABORATORIO"
      ],
      "metadata": {
        "id": "RJ2YxUbMMdir"
      }
    },
    {
      "cell_type": "markdown",
      "source": [
        "## Definizione e utilizzo di una classe\n",
        "\n",
        "Proviamo a definire una prima classe"
      ],
      "metadata": {
        "id": "IgriDlxeMh8U"
      }
    },
    {
      "cell_type": "code",
      "source": [
        "class Dog:\n",
        "    \"\"\"A simple attempt to model a dog.\"\"\"\n",
        "    def __init__(self, name_c, age_c, dogtype_c):\n",
        "        \"\"\"Initialize name and age attributes.\"\"\"\n",
        "        self.name = name_c\n",
        "        self.age = age_c\n",
        "        self.dogtype = dogtype_c\n",
        "\n",
        "    def hallo(self):\n",
        "      print(\"hallo\")\n",
        "\n",
        "    def sit(self, time):\n",
        "        \"\"\"Simulate a dog sitting in response to a command.\"\"\"\n",
        "        print(f\"{self.name} is now sitting for {time} minutes.\")\n",
        "\n",
        "    def roll_over(self):\n",
        "        \"\"\"Simulate rolling over in response to a command.\"\"\"\n",
        "        print(self.name + \" rolled over!\")\n",
        "        self.hallo()\n"
      ],
      "metadata": {
        "id": "m_07dWgkD_Rh"
      },
      "execution_count": null,
      "outputs": []
    },
    {
      "cell_type": "code",
      "source": [
        "type(6)"
      ],
      "metadata": {
        "colab": {
          "base_uri": "https://localhost:8080/"
        },
        "id": "V7bWjnzL56Je",
        "outputId": "05561cf3-4382-49c8-d765-23ed45703f79"
      },
      "execution_count": null,
      "outputs": [
        {
          "output_type": "execute_result",
          "data": {
            "text/plain": [
              "int"
            ]
          },
          "metadata": {},
          "execution_count": 41
        }
      ]
    },
    {
      "cell_type": "code",
      "source": [
        "dog1 = Dog(age_c=5, name_c='Willy', dogtype_c='Bulldog')\n",
        "dog2 = Dog(age_c=3, name_c='Bella', dogtype_c='Labrador')\n",
        "type(dog1)\n",
        "\n",
        "\n"
      ],
      "metadata": {
        "colab": {
          "base_uri": "https://localhost:8080/",
          "height": 103
        },
        "id": "6lwtJFwPJgiV",
        "outputId": "f3270646-24b3-4eff-c097-925969d68eb8"
      },
      "execution_count": null,
      "outputs": [
        {
          "output_type": "execute_result",
          "data": {
            "text/plain": [
              "__main__.Dog"
            ],
            "text/html": [
              "<div style=\"max-width:800px; border: 1px solid var(--colab-border-color);\"><style>\n",
              "      pre.function-repr-contents {\n",
              "        overflow-x: auto;\n",
              "        padding: 8px 12px;\n",
              "        max-height: 500px;\n",
              "      }\n",
              "\n",
              "      pre.function-repr-contents.function-repr-contents-collapsed {\n",
              "        cursor: pointer;\n",
              "        max-height: 100px;\n",
              "      }\n",
              "    </style>\n",
              "    <pre style=\"white-space: initial; background:\n",
              "         var(--colab-secondary-surface-color); padding: 8px 12px;\n",
              "         border-bottom: 1px solid var(--colab-border-color);\"><b>Dog</b><br/>def __init__(name_c, age_c, dogtype_c)</pre><pre class=\"function-repr-contents function-repr-contents-collapsed\" style=\"\"><a class=\"filepath\" style=\"display:none\" href=\"#\"></a>A simple attempt to model a dog.</pre></div>"
            ]
          },
          "metadata": {},
          "execution_count": 44
        }
      ]
    },
    {
      "cell_type": "markdown",
      "source": [
        "Una volta definite una classe é possible:\n",
        "\n",
        "* Crearne una o piú istanze\n",
        "\n",
        "* Utilizzarne i Metodi\n",
        "\n",
        "* Utilizzarne gli attribut"
      ],
      "metadata": {
        "id": "sHaCvup0Vl83"
      }
    },
    {
      "cell_type": "code",
      "source": [
        "my_dog = Dog(\"charlie\", 7, dogtype_c='Labrador')\n",
        "your_dog = Dog(\"freddy\", 3, 'Bulldog')\n",
        "\n",
        "#my_dog.roll_over()\n",
        "#my_dog.sit()\n",
        "#your_dog.sit()"
      ],
      "metadata": {
        "id": "ifJHt8zRWEGS"
      },
      "execution_count": null,
      "outputs": []
    },
    {
      "cell_type": "code",
      "source": [
        "a= 10\n",
        "print(a)\n",
        "a-=2\n",
        "print(a)"
      ],
      "metadata": {
        "colab": {
          "base_uri": "https://localhost:8080/"
        },
        "id": "KS1KP-13IGw7",
        "outputId": "93f76cbf-cb17-4d3e-e0aa-5a477740a918"
      },
      "execution_count": null,
      "outputs": [
        {
          "output_type": "stream",
          "name": "stdout",
          "text": [
            "10\n",
            "8\n"
          ]
        }
      ]
    },
    {
      "cell_type": "markdown",
      "source": [
        "##**Classe** Correntista\n",
        "La classe dovrà contenere:\n",
        "\n",
        "Attributi:\n",
        "- Nome\n",
        "- Cognome\n",
        "- Saldo_disponibile\n",
        "- Saldo_investito\n",
        "\n",
        "Metodi:\n",
        "- preleva(somma_prelevata)\n",
        "- versa(somma_versata)\n",
        "- investi(somma_da_investire)\n",
        "- mostra_info()"
      ],
      "metadata": {
        "id": "V2PtBAVZEpD2"
      }
    },
    {
      "cell_type": "code",
      "source": [
        "class Correntista:\n",
        "\n",
        "  def __init__(self, nome, cognome, saldo_disponibile, saldo_investito, soglia_di_poverta=50000):\n",
        "    self.nome = nome\n",
        "    self.cognome = cognome\n",
        "    self.saldo_disponibile = saldo_disponibile\n",
        "    self.saldo_investito = saldo_investito\n",
        "    self.soglia_di_poverta = soglia_di_poverta\n",
        "\n",
        "  def preleva(self, somma_prelevata):\n",
        "    #self.saldo_disponibile = self.saldo_disponibile - somma_prelevata\n",
        "    if somma_prelevata>self.saldo_disponibile:\n",
        "      print(f\"Sei povero! Puoi prelevare al massimo {self.saldo_disponibile}\")\n",
        "    else:\n",
        "      self.saldo_disponibile = self.saldo_disponibile - somma_prelevata\n",
        "      print(f\"Hai prelevato {somma_prelevata} euro, il nuovo saldo é {self.saldo_disponibile}\")\n",
        "\n",
        "  def versa(self, somma_versata):\n",
        "    self.saldo_disponibile += somma_versata\n",
        "    print(f\"Hai versato {somma_versata} euro, il nuovo saldo é {self.saldo_disponibile}\")\n",
        "\n",
        "  def investi(self, somma_da_investire):\n",
        "    if somma_da_investire > self.saldo_disponibile:\n",
        "      print(f\"Sei povero! Puoi investire al massimo {self.saldo_disponibile}\")\n",
        "    else:\n",
        "      self.saldo_disponibile -= somma_da_investire\n",
        "      self.saldo_investito += somma_da_investire\n",
        "      print(f\"Il tuo nuovo saldo disponibilie é {self.saldo_disponibile}\")\n",
        "      print(f\"Il tuo nuovo saldo investito é {self.saldo_investito}\")\n",
        "\n",
        "  def mostra_info(self):\n",
        "    print(f\"Correntista: {self.nome} {self.cognome}\")\n",
        "    print(f\"Saldo disponibile: {self.saldo_disponibile}\")\n",
        "    print(f\"Saldo investito: {self.saldo_investito}\")\n",
        "\n",
        "    if self.saldo_disponibile < self.soglia_di_poverta:\n",
        "      print(f\"Sei Povero, prova a risparmiare almeno {self.soglia_di_poverta - self.saldo_disponibile}\")"
      ],
      "metadata": {
        "id": "pjsUza1mEvZF"
      },
      "execution_count": null,
      "outputs": []
    },
    {
      "cell_type": "code",
      "source": [
        "correntista1 = Correntista('Claudio', 'Rossi', 5000, 40000)\n",
        "correntista2 = Correntista('Mario', 'Bianchi', 60000, 45000, 70000)\n",
        "\n",
        "correntista1.mostra_info()\n",
        "correntista1.preleva(45)\n",
        "print()\n",
        "correntista1.preleva(6000)\n",
        "correntista1.investi(6000)\n",
        "print()\n",
        "correntista1.investi(1000)\n",
        "print()\n",
        "correntista1.mostra_info()\n",
        "print()\n",
        "correntista2.mostra_info()\n",
        "print()\n",
        "print(f\"Soglia di povertà di {correntista1.cognome} é di {correntista1.soglia_di_poverta}\")\n",
        "print(f\"Soglia di povertà di {correntista2.cognome} é di {correntista2.soglia_di_poverta}\")"
      ],
      "metadata": {
        "colab": {
          "base_uri": "https://localhost:8080/"
        },
        "id": "OHIpkcFnSFNV",
        "outputId": "f74f19e7-4bcc-48d7-867e-dd632f04ff0d"
      },
      "execution_count": null,
      "outputs": [
        {
          "output_type": "stream",
          "name": "stdout",
          "text": [
            "Correntista: Claudio Rossi\n",
            "Saldo disponibile: 5000\n",
            "Saldo investito: 40000\n",
            "Sei Povero, prova a risparmiare almeno 45000\n",
            "Hai prelevato 45 euro, il nuovo saldo é 4955\n",
            "\n",
            "Sei povero! Puoi prelevare al massimo 4955\n",
            "Sei povero! Puoi investire al massimo 4955\n",
            "\n",
            "Il tuo nuovo saldo disponibilie é 3955\n",
            "Il tuo nuovo saldo investito é 41000\n",
            "\n",
            "Correntista: Claudio Rossi\n",
            "Saldo disponibile: 3955\n",
            "Saldo investito: 41000\n",
            "Sei Povero, prova a risparmiare almeno 46045\n",
            "\n",
            "Correntista: Mario Bianchi\n",
            "Saldo disponibile: 60000\n",
            "Saldo investito: 45000\n",
            "Sei Povero, prova a risparmiare almeno 10000\n",
            "\n",
            "Soglia di povertà di Rossi é di 50000\n",
            "Soglia di povertà di Bianchi é di 70000\n"
          ]
        }
      ]
    },
    {
      "cell_type": "markdown",
      "source": [
        "##Creiamo una classe MeteoHistory\n",
        "\n",
        "La classe dovrà contenere:\n",
        "\n",
        "Attributi:\n",
        "- temp\n",
        "- humidity\n",
        "- rain\n",
        "- wind\n",
        "\n",
        "Metodi:\n",
        "- calcola_media_temp()\n",
        "- calcola_media_hum()\n",
        "- calcola_media_ rain()\n",
        "- calcola_media_ wind()\n"
      ],
      "metadata": {
        "id": "RPuMr4sqY6rL"
      }
    },
    {
      "cell_type": "code",
      "source": [
        "import csv\n",
        "\n",
        "temp = []\n",
        "hum = []\n",
        "rain = []\n",
        "wind = []\n",
        "with open('meteo_Bari.csv', newline='') as my_file:\n",
        "    reader = csv.DictReader(my_file)\n",
        "    for row in reader:\n",
        "        temp.append(row['temperature_2m'])\n",
        "        hum.append(row['relative_humidity_2m'])\n",
        "        rain.append(row['precipitation'])\n",
        "        wind.append(row['wind_speed_10m'])"
      ],
      "metadata": {
        "id": "2lnvNFBVY6Gs"
      },
      "execution_count": null,
      "outputs": []
    },
    {
      "cell_type": "code",
      "source": [
        "import csv\n",
        "import numpy as np\n",
        "\n",
        "class Meteo:\n",
        "  def __init__(self, path):\n",
        "    self.temp = []\n",
        "    self.hum = []\n",
        "    self.rain = []\n",
        "    self.wind = []\n",
        "    with open(path, newline='') as my_file:\n",
        "        reader = csv.DictReader(my_file)\n",
        "        for row in reader:\n",
        "            self.temp.append(float(row['temperature_2m']))\n",
        "            self.hum.append(float(row['relative_humidity_2m']))\n",
        "            self.rain.append(float(row['precipitation']))\n",
        "            self.wind.append(float(row['wind_speed_10m']))\n",
        "\n",
        "  def media_temp(self):\n",
        "    somma_temp=0\n",
        "    for i in range(0,len(self.temp)):\n",
        "      somma_temp += float(self.temp[i])\n",
        "    mt = somma_temp/len(self.temp)\n",
        "    return(mt)\n",
        "\n",
        "  def media_hum(self):\n",
        "    somma_hum=0\n",
        "    for i in range(0,len(self.hum)):\n",
        "      self.hum += (self.hum[i])\n",
        "    mh = somma_hum/len(self.hum)\n",
        "    return(mh)\n",
        "\n",
        "  def media_wind(self):\n",
        "      wa = np.array(self.wind)\n",
        "      return wa.mean()\n",
        "\n",
        "  def media_rain(self):\n",
        "      ra = np.array(self.rain)\n",
        "      return ra.mean()\n",
        "\n",
        "  def var_tem(self):\n",
        "    ta = np.array(self.temp)\n",
        "    return ta.var()\n",
        "\n"
      ],
      "metadata": {
        "id": "hJ1TqMzmfHa1"
      },
      "execution_count": null,
      "outputs": []
    },
    {
      "cell_type": "code",
      "source": [
        "lecce = Meteo('meteo_Lecce.csv')\n",
        "bari = Meteo('meteo_Bari.csv')\n",
        "\n",
        "lecce.var_tem()\n",
        "\n",
        "\n",
        "#print(lecce.media_temp())\n",
        "#rint(bari.media_temp())"
      ],
      "metadata": {
        "colab": {
          "base_uri": "https://localhost:8080/"
        },
        "id": "AFIl6NCMfxjc",
        "outputId": "d541a198-2a47-4fef-b1f5-52b456325751"
      },
      "execution_count": null,
      "outputs": [
        {
          "output_type": "execute_result",
          "data": {
            "text/plain": [
              "100.4274374620148"
            ]
          },
          "metadata": {},
          "execution_count": 146
        }
      ]
    },
    {
      "cell_type": "markdown",
      "source": [
        "## Wizard Example class"
      ],
      "metadata": {
        "id": "DyMJquf9zc7O"
      }
    },
    {
      "cell_type": "code",
      "source": [
        "class WizCoin:\n",
        "  def __init__(self, galleons, sickles, knuts):\n",
        "    \"\"\"Create a new WizCoin object with galleons, sickles, and knuts.\"\"\"\n",
        "    self.galleons = galleons\n",
        "    self.sickles = sickles\n",
        "    self.knuts = knuts\n",
        "\n",
        "  def value(self):\n",
        "    \"\"\"The value (in knuts) of all the coins in this WizCoin object.\"\"\"\n",
        "    return (self.galleons * 17 * 29) + (self.sickles * 29) + (self.knuts)\n",
        "\n",
        "  def weightInGrams(self):\n",
        "    \"\"\"Returns the weight of the coins in grams.\"\"\"\n",
        "    return (self.galleons * 31.103) + (self.sickles * 11.34) + (self.knuts* 5.0)"
      ],
      "metadata": {
        "id": "-7cMRzqXzhto"
      },
      "execution_count": null,
      "outputs": []
    },
    {
      "cell_type": "code",
      "source": [],
      "metadata": {
        "id": "7wq-Res2_9bc"
      },
      "execution_count": null,
      "outputs": []
    },
    {
      "cell_type": "markdown",
      "source": [
        "##Inheritance"
      ],
      "metadata": {
        "id": "6xYuTvzmcVca"
      }
    },
    {
      "cell_type": "code",
      "source": [
        "class ParentClass:\n",
        "  def printHello(self):\n",
        "    print('Hello, world!')\n",
        "\n",
        "class ChildClass(ParentClass):\n",
        "  def someNewMethod(self):\n",
        "    print(\"Questa é un mentodo della classe figlio.\")\n",
        "\n",
        "class GrandchildClass(ChildClass):\n",
        "  def anotherNewMethod(self):\n",
        "    print('Questo metodo appartiene solo alla classe nipote.')"
      ],
      "metadata": {
        "id": "iVggu4mecYBX"
      },
      "execution_count": 12,
      "outputs": []
    },
    {
      "cell_type": "markdown",
      "source": [
        "Proviamo a istanziare queste classi e vedere cosa succede"
      ],
      "metadata": {
        "id": "p0BvqfZqcePv"
      }
    },
    {
      "cell_type": "code",
      "source": [
        "ciccio = ParentClass()\n",
        "ciccio.printHello()\n",
        "print()\n",
        "pippo = ChildClass()\n",
        "pippo.someNewMethod()\n",
        "pippo.printHello()"
      ],
      "metadata": {
        "id": "OsAcAxQ-vDiG",
        "colab": {
          "base_uri": "https://localhost:8080/"
        },
        "outputId": "5eb362db-74a2-4d49-8046-a3e8e70ffdbb"
      },
      "execution_count": 16,
      "outputs": [
        {
          "output_type": "stream",
          "name": "stdout",
          "text": [
            "Hello, world!\n",
            "\n",
            "Questa é un mentodo della classe figlio.\n",
            "Hello, world!\n"
          ]
        }
      ]
    },
    {
      "cell_type": "markdown",
      "source": [
        "### Override\n",
        "\n",
        "L'override di un metodo consiste nel sovrascrivere, in una classe figlia, un metodo ereditato dalla classe padre."
      ],
      "metadata": {
        "id": "DqiOmTaevD_c"
      }
    },
    {
      "cell_type": "code",
      "source": [
        "class ParentClass:\n",
        "  def printHello(self):\n",
        "    print('Hello, world!')\n",
        "\n",
        "  def printGoodNight(self):\n",
        "    print('Good Noght')\n",
        "\n",
        "class ChildClass(ParentClass):\n",
        "  def someNewMethod(self):\n",
        "    print(\"ParentClass objects don't have this method.\")\n",
        "\n",
        "  def printGoodNight(self): #override method\n",
        "    print('Good Noght Bro')\n",
        "\n"
      ],
      "metadata": {
        "id": "1HSALDQzx17G"
      },
      "execution_count": null,
      "outputs": []
    },
    {
      "cell_type": "code",
      "source": [
        "pippo = ParentClass()\n",
        "pippo.printGoodNight()\n",
        "print()\n",
        "\n",
        "ciccio= ChildClass()\n",
        "ciccio.printGoodNight()"
      ],
      "metadata": {
        "id": "FHTrIM5YabmU",
        "colab": {
          "base_uri": "https://localhost:8080/"
        },
        "outputId": "fe4d9f54-1f86-471f-cba5-9f9450ca88bd"
      },
      "execution_count": null,
      "outputs": [
        {
          "output_type": "stream",
          "name": "stdout",
          "text": [
            "Good Noght\n",
            "\n",
            "Good Noght Bro\n"
          ]
        }
      ]
    },
    {
      "cell_type": "markdown",
      "source": [
        "## Protected and Private"
      ],
      "metadata": {
        "id": "p4q7BZ04g0WQ"
      }
    },
    {
      "cell_type": "code",
      "source": [
        "class ParentClass:\n",
        "\n",
        "  def __init__(self, name, balance, code):\n",
        "\n",
        "        # public data members\n",
        "        self.name = name\n",
        "        self._balance = balance\n",
        "        self.__code = code\n",
        "\n",
        "class ChildClass(ParentClass):\n",
        "  tot = 23\n",
        "\n",
        "  def allowedAttributes(self):\n",
        "    print(f\"ChildClass can access {self.name}\" )\n",
        "    print(f\"ChildClass can access {self._balance}\" )\n",
        "\n",
        "  def forbiddenAttributes(self):\n",
        "    print(f\"ChildClass would like to access {self.__code}\" )\n",
        "\n",
        "  #def accessForbiddenAttributes(self):\n",
        "  #  print(f\"ChildClass would like to access {self._ParentClass__code}\" )"
      ],
      "metadata": {
        "id": "JlifoC5C1q4x"
      },
      "execution_count": null,
      "outputs": []
    },
    {
      "cell_type": "code",
      "source": [
        "a = ChildClass('ciro', 1000, 54887)\n",
        "\n",
        "a.allowedAttributes()\n",
        "#a.forbiddenAttributes() #error\n",
        "#a.accessForbiddenAttributes()\n",
        "\n"
      ],
      "metadata": {
        "colab": {
          "base_uri": "https://localhost:8080/"
        },
        "id": "xiY40BPRg59c",
        "outputId": "58797d92-29fd-4a14-89e5-70d264ce444d"
      },
      "execution_count": null,
      "outputs": [
        {
          "output_type": "stream",
          "name": "stdout",
          "text": [
            "ChildClass can access ciro\n",
            "ChildClass can access 1000\n"
          ]
        }
      ]
    },
    {
      "cell_type": "markdown",
      "source": [
        "É ora interessante capire da dove deriva questo messaggio di errore.\n",
        "\n",
        "```\n",
        "AttributeError: 'ChildClass' object has no attribute '_ChildClass__code'\n",
        "```\n",
        "\n",
        "Andiamo a fondo della question con un esempio (gentilemnte offerto da Geek4Geek)"
      ],
      "metadata": {
        "id": "OiazICq8jf4g"
      }
    },
    {
      "cell_type": "code",
      "source": [
        "class Geek:\n",
        "\n",
        "    # constructor\n",
        "    def __init__(self, name, age):\n",
        "\n",
        "        # public data members\n",
        "        self.geekName = name\n",
        "        self.geekAge = age\n",
        "\n",
        "    # public member function\n",
        "    def displayAge(self):\n",
        "\n",
        "        # accessing public data member\n",
        "        print(\"Age: \", self.geekAge)\n",
        "\n",
        "\n",
        "# creating object of the class\n",
        "obj = Geek(\"R2J\", 20)\n",
        "\n",
        "# finding all the fields and methods which are present inside obj\n",
        "print(\"List of fields and methods inside obj:\", dir(obj))\n",
        "\n",
        "# accessing public data member\n",
        "print(\"Name:\", obj.geekName)\n",
        "\n",
        "# calling public member function of the class\n",
        "obj.displayAge()"
      ],
      "metadata": {
        "id": "UUYIo9dRhBfz",
        "colab": {
          "base_uri": "https://localhost:8080/"
        },
        "outputId": "abac83d2-1437-40f1-a3d4-e0fbe92154e5"
      },
      "execution_count": null,
      "outputs": [
        {
          "output_type": "stream",
          "name": "stdout",
          "text": [
            "List of fields and methods inside obj: ['__class__', '__delattr__', '__dict__', '__dir__', '__doc__', '__eq__', '__format__', '__ge__', '__getattribute__', '__getstate__', '__gt__', '__hash__', '__init__', '__init_subclass__', '__le__', '__lt__', '__module__', '__ne__', '__new__', '__reduce__', '__reduce_ex__', '__repr__', '__setattr__', '__sizeof__', '__str__', '__subclasshook__', '__weakref__', 'displayAge', 'geekAge', 'geekName']\n",
            "Name: R2J\n",
            "Age:  20\n"
          ]
        }
      ]
    },
    {
      "cell_type": "code",
      "source": [
        "# program to illustrate protected access modifier in a class\n",
        "\n",
        "# super class\n",
        "class Student:\n",
        "\n",
        "    # protected data members\n",
        "    _name = None\n",
        "    _roll = None\n",
        "    _branch = None\n",
        "\n",
        "    # constructor\n",
        "    def __init__(self, name, roll, branch):\n",
        "        self._name = name\n",
        "        self._roll = roll\n",
        "        self._branch = branch\n",
        "\n",
        "    # protected member function\n",
        "    def _displayRollAndBranch(self):\n",
        "\n",
        "        # accessing protected data members\n",
        "        print(\"Roll:\", self._roll)\n",
        "        print(\"Branch:\", self._branch)\n",
        "\n",
        "# derived class\n",
        "class Geek(Student):\n",
        "\n",
        "    # constructor\n",
        "    def __init__(self, name, roll, branch):\n",
        "        Student.__init__(self, name, roll, branch)\n",
        "\n",
        "    # public member function\n",
        "    def displayDetails(self):\n",
        "\n",
        "        # accessing protected data members of super class\n",
        "        print(\"Name:\", self._name)\n",
        "\n",
        "        # accessing protected member functions of super class\n",
        "        self._displayRollAndBranch()\n",
        "\n",
        "\n",
        "stu = Student(\"Alpha\", 1234567, \"Computer Science\")\n",
        "print(dir(stu))\n",
        "\n",
        "# protected members and methods can be still accessed\n",
        "print(stu._name)\n",
        "stu._displayRollAndBranch()\n",
        "\n",
        "# Throws error\n",
        "# print(stu.name)\n",
        "# stu.displayRollAndBranch()\n",
        "\n",
        "# creating objects of the derived class\n",
        "obj = Geek(\"R2J\", 1706256, \"Information Technology\")\n",
        "print(\"\")\n",
        "print(dir(obj))\n",
        "\n",
        "# calling public member functions of the class\n",
        "obj.displayDetails()"
      ],
      "metadata": {
        "colab": {
          "base_uri": "https://localhost:8080/"
        },
        "id": "OtnR7a6NmjoW",
        "outputId": "9b27119b-4df7-4496-eb00-9e25d6b7041a"
      },
      "execution_count": null,
      "outputs": [
        {
          "output_type": "stream",
          "name": "stdout",
          "text": [
            "['__class__', '__delattr__', '__dict__', '__dir__', '__doc__', '__eq__', '__format__', '__ge__', '__getattribute__', '__getstate__', '__gt__', '__hash__', '__init__', '__init_subclass__', '__le__', '__lt__', '__module__', '__ne__', '__new__', '__reduce__', '__reduce_ex__', '__repr__', '__setattr__', '__sizeof__', '__str__', '__subclasshook__', '__weakref__', '_branch', '_displayRollAndBranch', '_name', '_roll']\n",
            "Alpha\n",
            "Roll: 1234567\n",
            "Branch: Computer Science\n",
            "\n",
            "['__class__', '__delattr__', '__dict__', '__dir__', '__doc__', '__eq__', '__format__', '__ge__', '__getattribute__', '__getstate__', '__gt__', '__hash__', '__init__', '__init_subclass__', '__le__', '__lt__', '__module__', '__ne__', '__new__', '__reduce__', '__reduce_ex__', '__repr__', '__setattr__', '__sizeof__', '__str__', '__subclasshook__', '__weakref__', '_branch', '_displayRollAndBranch', '_name', '_roll', 'displayDetails']\n",
            "Name: R2J\n",
            "Roll: 1706256\n",
            "Branch: Information Technology\n"
          ]
        }
      ]
    },
    {
      "cell_type": "markdown",
      "source": [
        "### Private access"
      ],
      "metadata": {
        "id": "gIIwCGIvngJX"
      }
    },
    {
      "cell_type": "code",
      "source": [
        "# program to illustrate private access modifier in a class\n",
        "\n",
        "class Geek:\n",
        "\n",
        "    # private members\n",
        "    __name = None\n",
        "    __roll = None\n",
        "    __branch = None\n",
        "\n",
        "    # constructor\n",
        "    def __init__(self, name, roll, branch):\n",
        "        self.__name = name\n",
        "        self.__roll = roll\n",
        "        self.__branch = branch\n",
        "\n",
        "    # private member function\n",
        "    def __displayDetails(self):\n",
        "\n",
        "        # accessing private data members\n",
        "        print(\"Name:\", self.__name)\n",
        "        print(\"Roll:\", self.__roll)\n",
        "        print(\"Branch:\", self.__branch)\n",
        "\n",
        "    # public member function\n",
        "    def accessPrivateFunction(self):\n",
        "\n",
        "        # accessing private member function\n",
        "        self.__displayDetails()\n",
        "\n",
        "# creating object\n",
        "obj = Geek(\"R2J\", 1706256, \"Information Technology\")\n",
        "\n",
        "print(dir(obj))\n",
        "print(\"\")\n",
        "\n",
        "# Throws error\n",
        "obj.__name\n",
        "obj.__roll\n",
        "obj.__branch\n",
        "obj.__displayDetails()\n",
        "\n",
        "# To access private members of a class\n",
        "# print(obj._Geek__name)\n",
        "# print(obj._Geek__roll)\n",
        "# print(obj._Geek__branch)\n",
        "# obj._Geek__displayDetails()\n",
        "\n",
        "print(\"\")\n",
        "\n",
        "# calling public member function of the class\n",
        "obj.accessPrivateFunction()"
      ],
      "metadata": {
        "colab": {
          "base_uri": "https://localhost:8080/",
          "height": 261
        },
        "id": "iucH7AB3nPyN",
        "outputId": "082a09c6-9f3f-4d6c-b7b7-6a49c25e23ed"
      },
      "execution_count": null,
      "outputs": [
        {
          "output_type": "stream",
          "name": "stdout",
          "text": [
            "['_Geek__branch', '_Geek__displayDetails', '_Geek__name', '_Geek__roll', '__class__', '__delattr__', '__dict__', '__dir__', '__doc__', '__eq__', '__format__', '__ge__', '__getattribute__', '__getstate__', '__gt__', '__hash__', '__init__', '__init_subclass__', '__le__', '__lt__', '__module__', '__ne__', '__new__', '__reduce__', '__reduce_ex__', '__repr__', '__setattr__', '__sizeof__', '__str__', '__subclasshook__', '__weakref__', 'accessPrivateFunction']\n",
            "\n"
          ]
        },
        {
          "output_type": "error",
          "ename": "AttributeError",
          "evalue": "'Geek' object has no attribute '__name'",
          "traceback": [
            "\u001b[0;31m---------------------------------------------------------------------------\u001b[0m",
            "\u001b[0;31mAttributeError\u001b[0m                            Traceback (most recent call last)",
            "\u001b[0;32m<ipython-input-29-c56f7bdde1e7>\u001b[0m in \u001b[0;36m<cell line: 0>\u001b[0;34m()\u001b[0m\n\u001b[1;32m     35\u001b[0m \u001b[0;34m\u001b[0m\u001b[0m\n\u001b[1;32m     36\u001b[0m \u001b[0;31m# Throws error\u001b[0m\u001b[0;34m\u001b[0m\u001b[0;34m\u001b[0m\u001b[0m\n\u001b[0;32m---> 37\u001b[0;31m \u001b[0mobj\u001b[0m\u001b[0;34m.\u001b[0m\u001b[0m__name\u001b[0m\u001b[0;34m\u001b[0m\u001b[0;34m\u001b[0m\u001b[0m\n\u001b[0m\u001b[1;32m     38\u001b[0m \u001b[0mobj\u001b[0m\u001b[0;34m.\u001b[0m\u001b[0m__roll\u001b[0m\u001b[0;34m\u001b[0m\u001b[0;34m\u001b[0m\u001b[0m\n\u001b[1;32m     39\u001b[0m \u001b[0mobj\u001b[0m\u001b[0;34m.\u001b[0m\u001b[0m__branch\u001b[0m\u001b[0;34m\u001b[0m\u001b[0;34m\u001b[0m\u001b[0m\n",
            "\u001b[0;31mAttributeError\u001b[0m: 'Geek' object has no attribute '__name'"
          ]
        }
      ]
    },
    {
      "cell_type": "markdown",
      "source": [
        "### super()\n",
        "\n",
        "La funzione super() di Python consente di fare riferimento esplicitamente alla classe madre. È fondamentalmente utile quando si devono chiamare i metodi della classe padre per i quali é stato eseguito un override."
      ],
      "metadata": {
        "id": "MYJUMyJrRWiE"
      }
    },
    {
      "cell_type": "code",
      "source": [
        "class Parent():\n",
        "\n",
        "    def show(self):\n",
        "        print(\"Inside Parent\")\n",
        "\n",
        "class Child(Parent):\n",
        "\n",
        "    def show(self):\n",
        "\n",
        "        # Calling the parent's class\n",
        "        # method\n",
        "        super().show()\n",
        "        print(\"Inside Child\")\n",
        "\n",
        "# Driver's code\n",
        "obj = Child()\n",
        "obj.show()"
      ],
      "metadata": {
        "id": "sVPURsBZRm65",
        "colab": {
          "base_uri": "https://localhost:8080/"
        },
        "outputId": "eda96241-b58a-407e-b89c-c4343cae2ab0"
      },
      "execution_count": null,
      "outputs": [
        {
          "output_type": "stream",
          "name": "stdout",
          "text": [
            "Inside Parent\n",
            "Inside Child\n"
          ]
        }
      ]
    },
    {
      "cell_type": "markdown",
      "source": [
        "La funzione super é anche fondamentale per richiamare il cosruttore della classe genitore"
      ],
      "metadata": {
        "id": "Su3hbWnoR1XR"
      }
    },
    {
      "cell_type": "code",
      "source": [
        "class Animal:\n",
        "    def __init__(self, name):\n",
        "        self.name = name\n",
        "\n",
        "class Dog(Animal):\n",
        "    def __init__(self, name, breed):\n",
        "        #super().__init__(name)\n",
        "        self.breed = breed"
      ],
      "metadata": {
        "id": "KAMZ5oigd5Mo"
      },
      "execution_count": null,
      "outputs": []
    },
    {
      "cell_type": "code",
      "source": [
        "# Program to define the use of super()\n",
        "# function in multiple inheritance\n",
        "class GFG1:\n",
        "    def __init__(self):\n",
        "        print('HEY !!!!!! GfG I am initialised(Class GEG1)')\n",
        "\n",
        "    def sub_GFG(self, b):\n",
        "        print('Printing from class GFG1:', b)\n",
        "\n",
        "# class GFG2 inherits the GFG1\n",
        "class GFG2(GFG1):\n",
        "    def __init__(self):\n",
        "        print('HEY !!!!!! GfG I am initialised(Class GEG2)')\n",
        "        super().__init__()\n",
        "\n",
        "    def sub_GFG(self, b):\n",
        "        print('Printing from class GFG2:', b)\n",
        "        super().sub_GFG(b + 1)\n",
        "\n",
        "# class GFG3 inherits the GFG1 ang GFG2 both\n",
        "class GFG3(GFG2):\n",
        "    def __init__(self):\n",
        "        print('HEY !!!!!! GfG I am initialised(Class GEG3)')\n",
        "        super().__init__()\n",
        "\n",
        "    def sub_GFG(self, b):\n",
        "        print('Printing from class GFG3:', b)\n",
        "        super().sub_GFG(b + 1)\n",
        "\n",
        "\n",
        "# main function\n",
        "if __name__ == '__main__':\n",
        "\n",
        "    # created the object gfg\n",
        "    gfg = GFG3()\n",
        "\n",
        "    # calling the function sub_GFG3() from class GHG3\n",
        "    # which inherits both GFG1 and GFG2 classes\n",
        "    gfg.sub_GFG(10)"
      ],
      "metadata": {
        "colab": {
          "base_uri": "https://localhost:8080/"
        },
        "id": "Sgjvoi7OS86W",
        "outputId": "869c7cb8-f19f-4146-d595-b37a2418c1bf"
      },
      "execution_count": null,
      "outputs": [
        {
          "output_type": "stream",
          "name": "stdout",
          "text": [
            "HEY !!!!!! GfG I am initialised(Class GEG3)\n",
            "HEY !!!!!! GfG I am initialised(Class GEG2)\n",
            "HEY !!!!!! GfG I am initialised(Class GEG1)\n",
            "Printing from class GFG3: 10\n",
            "Printing from class GFG2: 11\n",
            "Printing from class GFG1: 12\n"
          ]
        }
      ]
    },
    {
      "cell_type": "markdown",
      "source": [
        "## Inhtritance vs Composition\n",
        "\n"
      ],
      "metadata": {
        "id": "8wSv6fVwcb8W"
      }
    },
    {
      "cell_type": "code",
      "source": [
        "class WizCoin:\n",
        "  def __init__(self, galleons, sickles, knuts):\n",
        "    \"\"\"Create a new WizCoin object with galleons, sickles, and knuts.\"\"\"\n",
        "    self.galleons = galleons\n",
        "    self.sickles = sickles\n",
        "    self.knuts = knuts\n",
        "\n",
        "  def value(self):\n",
        "    \"\"\"The value (in knuts) of all the coins in this WizCoin object.\"\"\"\n",
        "    return (self.galleons * 17 * 29) + (self.sickles * 29) + (self.knuts)\n",
        "\n",
        "  def weightInGrams(self):\n",
        "    \"\"\"Returns the weight of the coins in grams.\"\"\"\n",
        "    return (self.galleons * 31.103) + (self.sickles * 11.34) + (self.knuts* 5.0)\n",
        "\n",
        "\n",
        "\n",
        "#class WizardCustomer(WizCoin):\n",
        "#  def __init__(self, name, galleons, sickles, knuts):\n",
        "#    self.name = name\n",
        "#    super().__init__(galleons, sickles, knuts)\n",
        "\n",
        "class WizardCustomer:\n",
        "  def __init__(self, name, galleons, sickles, knuts):\n",
        "    self.name = name\n",
        "    self.portfolio = WizCoin(galleons, sickles, knuts)\n",
        "\n",
        "\n",
        "#wizard = WizardCustomer('Alice')\n",
        "#print(f'{wizard.name} has {wizard.value()} knuts worth of money.')\n",
        "#print(f'{wizard.name}\\'s coins weigh {wizard.weightInGrams()} grams.')"
      ],
      "metadata": {
        "id": "n5PpgQvjcg3p"
      },
      "execution_count": 45,
      "outputs": []
    },
    {
      "cell_type": "code",
      "source": [
        "mago = WizardCustomer('Gandalf', 12,34,56)\n",
        "print(mago.name)\n",
        "print(mago.portfolio.value())"
      ],
      "metadata": {
        "colab": {
          "base_uri": "https://localhost:8080/"
        },
        "id": "8EwYhIoNKw6p",
        "outputId": "20330f52-e066-45c6-c4f2-1522424962cb"
      },
      "execution_count": 46,
      "outputs": [
        {
          "output_type": "stream",
          "name": "stdout",
          "text": [
            "Gandalf\n",
            "6958\n"
          ]
        }
      ]
    },
    {
      "cell_type": "markdown",
      "source": [
        "In questa forma il codice e poco elegante e leggibile. In un caso come questo é più opportuno utilizzare la composizione"
      ],
      "metadata": {
        "id": "pVm_kr_jc8NM"
      }
    },
    {
      "cell_type": "code",
      "source": [
        "class WizCoin:\n",
        "  def __init__(self, galleons, sickles, knuts):\n",
        "    \"\"\"Create a new WizCoin object with galleons, sickles, and knuts.\"\"\"\n",
        "    self.galleons = galleons\n",
        "    self.sickles = sickles\n",
        "    self.knuts = knuts\n",
        "\n",
        "  def value(self):\n",
        "    \"\"\"The value (in knuts) of all the coins in this WizCoin object.\"\"\"\n",
        "    return (self.galleons * 17 * 29) + (self.sickles * 29) + (self.knuts)\n",
        "\n",
        "  def weightInGrams(self):\n",
        "    \"\"\"Returns the weight of the coins in grams.\"\"\"\n",
        "    return (self.galleons * 31.103) + (self.sickles * 11.34) + (self.knuts* 5.0)\n",
        "\n",
        "class WizardCustomer:\n",
        "  def __init__(self, name):\n",
        "    self.name = name\n",
        "    self.purse = WizCoin(0, 0, 0)\n",
        "\n",
        "\n",
        "wizard = WizardCustomer('Alice')\n",
        "print(f'{wizard.name} has {wizard.purse.value()} knuts worth of money.')\n",
        "print(f'{wizard.name}\\'s coins weigh {wizard.purse.weightInGrams()} grams.')"
      ],
      "metadata": {
        "colab": {
          "base_uri": "https://localhost:8080/"
        },
        "id": "0hzM86lJdHPk",
        "outputId": "f21650d0-feb1-4fcb-ab3c-ca48dd526fe9"
      },
      "execution_count": null,
      "outputs": [
        {
          "output_type": "stream",
          "name": "stdout",
          "text": [
            "Alice has 0 knuts worth of money.\n",
            "Alice's coins weigh 0.0 grams.\n"
          ]
        }
      ]
    },
    {
      "cell_type": "markdown",
      "source": [
        "##Python Dictionary"
      ],
      "metadata": {
        "id": "6mY5EttvEs20"
      }
    },
    {
      "cell_type": "code",
      "source": [
        "import json\n",
        "\n",
        "#a = {\"name\": \"Marco\", \"Surname\":\"Del Coco\", \"age\": 40}\n",
        "#type(a)\n",
        "\n",
        "#with open('marco.json', 'w') as file:\n",
        "#      json.dump(a, file)\n",
        "\n",
        "b = json.load(open('marco.json'))\n",
        "print(type(b))\n",
        "print(b)\n"
      ],
      "metadata": {
        "colab": {
          "base_uri": "https://localhost:8080/"
        },
        "id": "0W49dkj7EwD-",
        "outputId": "556880e5-21a0-4269-d518-a385ec2ab41f"
      },
      "execution_count": 3,
      "outputs": [
        {
          "output_type": "stream",
          "name": "stdout",
          "text": [
            "<class 'dict'>\n",
            "{'name': 'Marco', 'Surname': 'Del Coco', 'age': 40}\n"
          ]
        }
      ]
    },
    {
      "cell_type": "code",
      "source": [
        "class Correntista:\n",
        "\n",
        "  def __init__(self, conto_esistente=0, numero_conto='', nome='', cognome='', saldo_disponibile='', saldo_investito='', soglia_di_poverta=50000):\n",
        "    if conto_esistente == 1:\n",
        "\n",
        "      conto_da_caricare = json.load(open(f'{numero_conto}.json'))\n",
        "\n",
        "      self.numero_conto = conto_da_caricare['numero_conto']\n",
        "      self.nome = conto_da_caricare['nome']\n",
        "      self.cognome = conto_da_caricare['cognome']\n",
        "      self._saldo_disponibile = conto_da_caricare['saldo_disponibile']\n",
        "      self.saldo_investito = conto_da_caricare['saldo_investito']\n",
        "      self.soglia_di_poverta = conto_da_caricare['soglia_di_poverta']\n",
        "\n",
        "    else:\n",
        "      self.numero_conto = numero_conto\n",
        "      self.nome = nome\n",
        "      self.cognome = cognome\n",
        "      self._saldo_disponibile = saldo_disponibile\n",
        "      self.saldo_investito = saldo_investito\n",
        "      self.soglia_di_poverta = soglia_di_poverta\n",
        "\n",
        "  def salva_file(self):\n",
        "    corr = {\"numero_conto\": self.numero_conto, \"nome\": self.nome, \"cognome\": self.cognome, \"saldo_disponibile\": self._saldo_disponibile, \"saldo_investito\": self.saldo_investito, \"soglia_di_poverta\": self.soglia_di_poverta}\n",
        "    with open(f'{self.numero_conto}.json', 'w') as f:\n",
        "      json.dump(corr, f)\n",
        "\n",
        "  def preleva(self, somma_prelevata):\n",
        "    #self.saldo_disponibile = self.saldo_disponibile - somma_prelevata\n",
        "    if somma_prelevata>self._saldo_disponibile:\n",
        "      print(f\"Sei povero! Puoi prelevare al massimo {self._saldo_disponibile}\")\n",
        "    else:\n",
        "      self.saldo_disponibile = self._saldo_disponibile - somma_prelevata\n",
        "      print(f\"Hai prelevato {somma_prelevata} euro, il nuovo saldo é {self._saldo_disponibile}\")\n",
        "\n",
        "  def versa(self, somma_versata):\n",
        "    self.saldo_disponibile += somma_versata\n",
        "    print(f\"Hai versato {somma_versata} euro, il nuovo saldo é {self._saldo_disponibile}\")\n",
        "\n",
        "  def investi(self, somma_da_investire):\n",
        "    if somma_da_investire > self._saldo_disponibile:\n",
        "      print(f\"Sei povero! Puoi investire al massimo {self._saldo_disponibile}\")\n",
        "    else:\n",
        "      self._saldo_disponibile -= somma_da_investire\n",
        "      self.saldo_investito += somma_da_investire\n",
        "      print(f\"Il tuo nuovo saldo disponibilie é {self._saldo_disponibile}\")\n",
        "      print(f\"Il tuo nuovo saldo investito é {self.saldo_investito}\")\n",
        "\n",
        "  def mostra_info(self):\n",
        "    print(f\"Numero Conto: {self.numero_conto}\")\n",
        "    print(f\"Correntista: {self.nome} {self.cognome}\")\n",
        "    print(f\"Saldo disponibile: {self._saldo_disponibile}\")\n",
        "    print(f\"Saldo investito: {self.saldo_investito}\")\n",
        "\n",
        "    if self._saldo_disponibile < self.soglia_di_poverta:\n",
        "      print(f\"Sei Povero, prova a risparmiare almeno {self.soglia_di_poverta - self._saldo_disponibile}\")"
      ],
      "metadata": {
        "id": "jQD2WMqXH9lF"
      },
      "execution_count": 22,
      "outputs": []
    },
    {
      "cell_type": "code",
      "source": [
        "#corr1 = Correntista(0, 123, 'Marco', 'Del Coco', 5000, 35000)\n",
        "#corr1.mostra_info()\n",
        "#corr1.salva_file()\n",
        "\n",
        "corrX = Correntista(1, 123)\n",
        "corrX.mostra_info()\n",
        "corrX.preleva(500)\n",
        "corrX.investi(1000)\n",
        "corrX.salva_file()\n",
        "#print(corrX._saldo_disponibile)\n",
        "\n",
        "#corrX._Correntista__numero_conto"
      ],
      "metadata": {
        "colab": {
          "base_uri": "https://localhost:8080/"
        },
        "id": "7Dt0ji9BWPza",
        "outputId": "c1eeb6ef-f72b-4086-d06c-b5949b6cd0a9"
      },
      "execution_count": 23,
      "outputs": [
        {
          "output_type": "stream",
          "name": "stdout",
          "text": [
            "Numero Conto: 123\n",
            "Correntista: Marco Del Coco\n",
            "Saldo disponibile: 4000\n",
            "Saldo investito: 36000\n",
            "Sei Povero, prova a risparmiare almeno 46000\n",
            "Hai prelevato 500 euro, il nuovo saldo é 4000\n",
            "Il tuo nuovo saldo disponibilie é 3000\n",
            "Il tuo nuovo saldo investito é 37000\n"
          ]
        }
      ]
    },
    {
      "cell_type": "code",
      "source": [
        "class Correntista_Banca(Correntista):\n",
        "    def __init__(self, conto_esistente=0, numero_conto='', nome='', cognome='', saldo_disponibile='', saldo_investito='', investimenti_avanzati='', soglia_di_poverta=50000):\n",
        "      if conto_esistente == 1:\n",
        "\n",
        "        conto_da_caricare = json.load(open(f'{numero_conto}.json'))\n",
        "\n",
        "        self.numero_conto = conto_da_caricare['numero_conto']\n",
        "        self.nome = conto_da_caricare['nome']\n",
        "        self.cognome = conto_da_caricare['cognome']\n",
        "        self._saldo_disponibile = conto_da_caricare['saldo_disponibile']\n",
        "        self.saldo_investito = conto_da_caricare['saldo_investito']\n",
        "        self.soglia_di_poverta = conto_da_caricare['soglia_di_poverta']\n",
        "        self.investimenti_avanzati = conto_da_caricare['investimenti_avanzati']\n",
        "\n",
        "      else:\n",
        "        self.numero_conto = numero_conto\n",
        "        self.nome = nome\n",
        "        self.cognome = cognome\n",
        "        self._saldo_disponibile = saldo_disponibile\n",
        "        self.saldo_investito = saldo_investito\n",
        "        self.soglia_di_poverta = soglia_di_poverta\n",
        "        self.investimenti_avanzati = investimenti_avanzati\n",
        "\n",
        "    def investi_avanzato(self, somma_da_investire):\n",
        "      if somma_da_investire > self._saldo_disponibile:\n",
        "        print(f\"Sei povero! Puoi investire al massimo {self._saldo_disponibile}\")\n",
        "      else:\n",
        "        self._saldo_disponibile -= somma_da_investire\n",
        "        self.investimenti_avanzati += somma_da_investire\n",
        "        print(f\"Il tuo nuovo saldo disponibilie é {self._saldo_disponibile}\")\n",
        "        print(f\"Il tuo nuovo saldo investimenti avanzati é {self.investimenti_avanzati}\")\n",
        "\n",
        "    def preleva(self, somma_prelevata):\n",
        "      self._saldo_disponibile = self._saldo_disponibile -somma_prelevata\n",
        "      print(f'Nuovo saldo disponibile é: {self._saldo_disponibile}')\n",
        ""
      ],
      "metadata": {
        "id": "40u3b0I8CWS-"
      },
      "execution_count": 33,
      "outputs": []
    },
    {
      "cell_type": "code",
      "source": [
        "#corrB = Correntista_Banca(0, 678, 'Gino', 'Rossi', 5000, 4300, 1000)\n",
        "#corrB.mostra_info()\n",
        "#corrB.preleva(10000)\n",
        "\n",
        "corr1.mostra_info()\n",
        "corr1.preleva(10000)"
      ],
      "metadata": {
        "colab": {
          "base_uri": "https://localhost:8080/"
        },
        "id": "dmzMHo-EDr7U",
        "outputId": "319cc67a-7b5a-4822-8ffb-833dd57ca36e"
      },
      "execution_count": 36,
      "outputs": [
        {
          "output_type": "stream",
          "name": "stdout",
          "text": [
            "Numero Conto: 123\n",
            "Correntista: Marco Del Coco\n",
            "Saldo disponibile: 5000\n",
            "Saldo investito: 35000\n",
            "Sei Povero, prova a risparmiare almeno 45000\n",
            "Sei povero! Puoi prelevare al massimo 5000\n"
          ]
        }
      ]
    },
    {
      "cell_type": "markdown",
      "source": [
        "## Dunder methods"
      ],
      "metadata": {
        "id": "uDgUXFQ7X5ee"
      }
    },
    {
      "cell_type": "code",
      "source": [
        "a = [1,2,3,4, 6, 8 , 10]\n",
        "len(a)\n",
        "\n",
        "b = 'cioaa tutti'\n",
        "len(b)\n",
        "\n",
        "c = {\"name\":'marco', \"Surname\": 'Del coco'}\n",
        "len(c)"
      ],
      "metadata": {
        "colab": {
          "base_uri": "https://localhost:8080/"
        },
        "id": "c4zbUwtNX5Lk",
        "outputId": "38f986f3-5da6-4e63-946d-2e2d8ecbdf3d"
      },
      "execution_count": 50,
      "outputs": [
        {
          "output_type": "execute_result",
          "data": {
            "text/plain": [
              "2"
            ]
          },
          "metadata": {},
          "execution_count": 50
        }
      ]
    },
    {
      "cell_type": "code",
      "source": [
        "class WizCoin:\n",
        "  def __init__(self, galleons, sickles, knuts):\n",
        "    \"\"\"Create a new WizCoin object with galleons, sickles, and knuts.\"\"\"\n",
        "    self.galleons = galleons\n",
        "    self.sickles = sickles\n",
        "    self.knuts = knuts\n",
        "\n",
        "  def value(self):\n",
        "    \"\"\"The value (in knuts) of all the coins in this WizCoin object.\"\"\"\n",
        "    return (self.galleons * 17 * 29) + (self.sickles * 29) + (self.knuts)\n",
        "\n",
        "  def weightInGrams(self):\n",
        "    \"\"\"Returns the weight of the coins in grams.\"\"\"\n",
        "    return (self.galleons * 31.103) + (self.sickles * 11.34) + (self.knuts* 5.0)\n",
        "\n",
        "  def __add__(self, other):\n",
        "    if isinstance(other, WizCoin):\n",
        "      return WizCoin(self.galleons + other.galleons, self.sickles + other.sickles, self.knuts +other.knuts)\n",
        "    else:\n",
        "      print(\"Gli oggetti utilizzati non sono dello stesso tipo\")\n",
        "\n",
        "  def __str__(self):\n",
        "    return f\"In totale il port vale g {self.galleons}, s {self.sickles} k {self.knuts}\"\n",
        "\n",
        "port1 = WizCoin(23,45,67)\n",
        "port2 = WizCoin(11,43,67)\n",
        "\n",
        "portTot = port1+port2\n",
        "#portTot2 = port1.__add__(port2)\n",
        "\n",
        "\n",
        "#print(portTot2.galleons)\n",
        "#print(portTot2.sickles)\n",
        "#print(portTot2.knuts)\n",
        "\n",
        "#print(len(port2))\n",
        "\n",
        "#type(str(123))\n",
        "\n"
      ],
      "metadata": {
        "colab": {
          "base_uri": "https://localhost:8080/"
        },
        "id": "_ahbG6ZqbJkC",
        "outputId": "f72ac82f-8204-4960-aa48-0c7b7a1ebf62"
      },
      "execution_count": 26,
      "outputs": [
        {
          "output_type": "stream",
          "name": "stdout",
          "text": [
            "Gli oggetti utilizzati non sono dello stesso tipo\n"
          ]
        }
      ]
    },
    {
      "cell_type": "markdown",
      "source": [
        "## Class Attributes"
      ],
      "metadata": {
        "id": "yenZoNDQgeZP"
      }
    },
    {
      "cell_type": "code",
      "source": [
        "class Correntista:\n",
        "  contatore = 0\n",
        "\n",
        "  def __init__(self, nome, saldo):\n",
        "    self.nome = nome\n",
        "    self.saldo = saldo\n",
        "    Correntista.contatore += 1\n",
        "\n",
        "\n",
        "print(Correntista.contatore)\n",
        "cor1 = Correntista('Marco', 4000)\n",
        "print(Correntista.contatore)\n",
        "cor2 = Correntista('Gino', 5000)\n",
        "corr3 = Correntista('Pino', 400)\n",
        "print(Correntista.contatore)\n"
      ],
      "metadata": {
        "colab": {
          "base_uri": "https://localhost:8080/"
        },
        "id": "Lt0j94B0ghsa",
        "outputId": "38d2ed05-11b2-4315-e260-2538c48c50bf"
      },
      "execution_count": 65,
      "outputs": [
        {
          "output_type": "stream",
          "name": "stdout",
          "text": [
            "0\n",
            "1\n",
            "3\n"
          ]
        }
      ]
    },
    {
      "cell_type": "markdown",
      "source": [
        "un esempio di utilizzio \"quasi\" reale"
      ],
      "metadata": {
        "id": "yLARzjuxAivN"
      }
    },
    {
      "cell_type": "code",
      "source": [
        "class Cerchio:\n",
        "  pi = 3.14\n",
        "\n",
        "  def __init__(self, raggio):\n",
        "    self.raggio = raggio\n",
        "    #self.pi = 3.14\n",
        "\n",
        "  def area(self):\n",
        "    return self.raggio * self.raggio * Cerchio.pi\n",
        "\n",
        "\n",
        "c1 = Cerchio(10)\n",
        "c2 = Cerchio(15)\n",
        "c3 = Cerchio(25)\n",
        "\n",
        "print(c1.area())\n",
        "print(c2.area())\n",
        "print(c3.area())\n",
        "\n",
        "#c1.pi = 3.141592\n",
        "#c2.pi = 3.141592\n",
        "#c3.pi = 3.141592\n",
        "Cerchio.pi = 3.141592\n",
        "\n",
        "print(c1.area())\n",
        "print(c2.area())\n",
        "print(c3.area())"
      ],
      "metadata": {
        "colab": {
          "base_uri": "https://localhost:8080/"
        },
        "id": "a422TvyRifev",
        "outputId": "f51b7d5e-9dcb-41d3-feaa-e6aa55e07e71"
      },
      "execution_count": 69,
      "outputs": [
        {
          "output_type": "stream",
          "name": "stdout",
          "text": [
            "314.0\n",
            "706.5\n",
            "1962.5\n",
            "314.1592\n",
            "706.8582\n",
            "1963.4950000000001\n"
          ]
        }
      ]
    },
    {
      "cell_type": "markdown",
      "source": [
        "##Class Methods"
      ],
      "metadata": {
        "id": "-fZ01CR_At19"
      }
    },
    {
      "cell_type": "code",
      "source": [
        "import json\n",
        "\n",
        "class Correntista:\n",
        "  def __init__(self, conto, nome, saldo):\n",
        "    self.info = {\"conto\": conto, \"nome\": nome, \"saldo\": saldo}\n",
        "\n",
        "  def salva_file(self):\n",
        "    with open(f\"{self.info['conto']}.json\", 'w') as f:\n",
        "      json.dump(self.info, f)\n",
        "\n",
        "  @classmethod\n",
        "  def apri_da_file(cls, path):\n",
        "      dati = json.load(open(path))\n",
        "\n",
        "      return cls(dati['conto'], dati['nome'], dati['saldo'])\n"
      ],
      "metadata": {
        "id": "KrtEj2MNAw0-"
      },
      "execution_count": 17,
      "outputs": []
    },
    {
      "cell_type": "code",
      "source": [
        "corr1 = Correntista(12, 'Marco', 5000)\n",
        "corr1.salva_file()"
      ],
      "metadata": {
        "id": "ZMDLGqu3DQ7C"
      },
      "execution_count": 18,
      "outputs": []
    },
    {
      "cell_type": "code",
      "source": [
        "corr2 = Correntista.apri_da_file('12.json')\n",
        "corr2.info"
      ],
      "metadata": {
        "colab": {
          "base_uri": "https://localhost:8080/"
        },
        "id": "B6RooS_PE920",
        "outputId": "008fdc11-1a26-476b-c98d-ef580f229033"
      },
      "execution_count": 22,
      "outputs": [
        {
          "output_type": "execute_result",
          "data": {
            "text/plain": [
              "{'conto': 12, 'nome': 'Marco', 'saldo': 5000}"
            ]
          },
          "metadata": {},
          "execution_count": 22
        }
      ]
    },
    {
      "cell_type": "markdown",
      "source": [
        "##Static Methods"
      ],
      "metadata": {
        "id": "ofH-8pSaAera"
      }
    },
    {
      "cell_type": "code",
      "source": [
        "class Test:\n",
        "\n",
        "  def __init__(self, name):\n",
        "    self.name = name\n",
        "\n",
        "  def stampa(self):\n",
        "    print(f'questo é il nome:{self.name}')\n",
        "\n",
        "  @staticmethod\n",
        "  def somma(a,b):\n",
        "    return a+b\n",
        "\n",
        "\n",
        "a = Test('marco')\n",
        "a.stampa()\n",
        "\n",
        "print(Test.somma(2,3))"
      ],
      "metadata": {
        "colab": {
          "base_uri": "https://localhost:8080/"
        },
        "id": "Mqd7rQDglWbx",
        "outputId": "8693aaa1-55e1-42b6-95b8-b750f4284f2d"
      },
      "execution_count": 7,
      "outputs": [
        {
          "output_type": "stream",
          "name": "stdout",
          "text": [
            "questo é il nome:marco\n",
            "5\n"
          ]
        }
      ]
    },
    {
      "cell_type": "markdown",
      "source": [
        "## isistance()"
      ],
      "metadata": {
        "id": "xuJxPIh5_33F"
      }
    },
    {
      "cell_type": "code",
      "source": [
        "a = 5\n",
        "print(isinstance(a, int))\n",
        "print(isinstance(a, str))"
      ],
      "metadata": {
        "colab": {
          "base_uri": "https://localhost:8080/"
        },
        "id": "BRiqXgW-AIXA",
        "outputId": "82c42f9f-2709-4794-cc87-164a36544bd3"
      },
      "execution_count": 23,
      "outputs": [
        {
          "output_type": "stream",
          "name": "stdout",
          "text": [
            "True\n",
            "False\n"
          ]
        }
      ]
    },
    {
      "cell_type": "code",
      "source": [],
      "metadata": {
        "id": "ZG5n-gLKBEF2"
      },
      "execution_count": null,
      "outputs": []
    }
  ]
}